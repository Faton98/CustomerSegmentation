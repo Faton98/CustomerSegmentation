{
  "nbformat": 4,
  "nbformat_minor": 0,
  "metadata": {
    "colab": {
      "name": "CustomerSeg (1).ipynb",
      "provenance": [],
      "include_colab_link": true
    },
    "kernelspec": {
      "name": "python3",
      "display_name": "Python 3"
    },
    "accelerator": "GPU"
  },
  "cells": [
    {
      "cell_type": "markdown",
      "metadata": {
        "id": "view-in-github",
        "colab_type": "text"
      },
      "source": [
        "<a href=\"https://colab.research.google.com/github/Faton98/CustomerSegmentation/blob/master/CustomerSeg_(1).ipynb\" target=\"_parent\"><img src=\"https://colab.research.google.com/assets/colab-badge.svg\" alt=\"Open In Colab\"/></a>"
      ]
    },
    {
      "cell_type": "markdown",
      "metadata": {
        "id": "pbKICBqmU8B0",
        "colab_type": "text"
      },
      "source": [
        "**Customer Segmentation Clustering (K-Means)**\n",
        "\n",
        "> Import Libraries \n",
        "\n",
        "\n",
        "\n",
        "\n"
      ]
    },
    {
      "cell_type": "code",
      "metadata": {
        "id": "oH3nffTrLwpu",
        "colab_type": "code",
        "colab": {}
      },
      "source": [
        "#import library\n",
        "import pandas as pd\n",
        "import seaborn as sns\n",
        "import matplotlib.pyplot as plt\n",
        "from sklearn.cluster import KMeans\n",
        "from yellowbrick.cluster import KElbowVisualizer\n",
        "import plotly.graph_objs as go\n",
        "import plotly as py\n",
        "from sklearn.cluster import DBSCAN\n",
        "from sklearn.preprocessing import StandardScaler\n",
        "import sklearn.utils\n",
        "import random"
      ],
      "execution_count": 60,
      "outputs": []
    },
    {
      "cell_type": "code",
      "metadata": {
        "id": "5o2LCwVYMsk4",
        "colab_type": "code",
        "colab": {
          "base_uri": "https://localhost:8080/",
          "height": 34
        },
        "outputId": "b1eec9d7-3079-49e8-993d-35251e256c60"
      },
      "source": [
        "from google.colab import drive\n",
        "drive.mount('/content/drive/')"
      ],
      "execution_count": 61,
      "outputs": [
        {
          "output_type": "stream",
          "text": [
            "Drive already mounted at /content/drive/; to attempt to forcibly remount, call drive.mount(\"/content/drive/\", force_remount=True).\n"
          ],
          "name": "stdout"
        }
      ]
    },
    {
      "cell_type": "code",
      "metadata": {
        "id": "GDoiiio-Nsas",
        "colab_type": "code",
        "colab": {
          "base_uri": "https://localhost:8080/",
          "height": 34
        },
        "outputId": "532898d1-2b98-4536-d440-646c422c3474"
      },
      "source": [
        "!ls \"/content/drive/My Drive/Project/customer_segmentation_data.csv\""
      ],
      "execution_count": 62,
      "outputs": [
        {
          "output_type": "stream",
          "text": [
            "'/content/drive/My Drive/Project/customer_segmentation_data.csv'\n"
          ],
          "name": "stdout"
        }
      ]
    },
    {
      "cell_type": "code",
      "metadata": {
        "id": "4ZopxVrOSE6m",
        "colab_type": "code",
        "colab": {}
      },
      "source": [
        "#Reading the raw data \n",
        "data = pd.read_csv(\"drive/My Drive/Project/customer_segmentation_data.csv\")"
      ],
      "execution_count": 63,
      "outputs": []
    },
    {
      "cell_type": "code",
      "metadata": {
        "id": "T7S9EBMpSdCK",
        "colab_type": "code",
        "colab": {
          "base_uri": "https://localhost:8080/",
          "height": 419
        },
        "outputId": "50ebdcf8-a906-49d5-d658-97f191bbbc55"
      },
      "source": [
        "data"
      ],
      "execution_count": 64,
      "outputs": [
        {
          "output_type": "execute_result",
          "data": {
            "text/html": [
              "<div>\n",
              "<style scoped>\n",
              "    .dataframe tbody tr th:only-of-type {\n",
              "        vertical-align: middle;\n",
              "    }\n",
              "\n",
              "    .dataframe tbody tr th {\n",
              "        vertical-align: top;\n",
              "    }\n",
              "\n",
              "    .dataframe thead th {\n",
              "        text-align: right;\n",
              "    }\n",
              "</style>\n",
              "<table border=\"1\" class=\"dataframe\">\n",
              "  <thead>\n",
              "    <tr style=\"text-align: right;\">\n",
              "      <th></th>\n",
              "      <th>CustID</th>\n",
              "      <th>Gender</th>\n",
              "      <th>Age</th>\n",
              "      <th>AnnualIncome</th>\n",
              "      <th>CustScore (1-100)</th>\n",
              "      <th>Hometown</th>\n",
              "      <th>FavoriteTime</th>\n",
              "    </tr>\n",
              "  </thead>\n",
              "  <tbody>\n",
              "    <tr>\n",
              "      <th>0</th>\n",
              "      <td>1</td>\n",
              "      <td>Female</td>\n",
              "      <td>20</td>\n",
              "      <td>20000</td>\n",
              "      <td>1</td>\n",
              "      <td>Jakarta</td>\n",
              "      <td>Weekend</td>\n",
              "    </tr>\n",
              "    <tr>\n",
              "      <th>1</th>\n",
              "      <td>2</td>\n",
              "      <td>Male</td>\n",
              "      <td>21</td>\n",
              "      <td>34000</td>\n",
              "      <td>81</td>\n",
              "      <td>Jakarta</td>\n",
              "      <td>Weekend</td>\n",
              "    </tr>\n",
              "    <tr>\n",
              "      <th>2</th>\n",
              "      <td>3</td>\n",
              "      <td>Female</td>\n",
              "      <td>18</td>\n",
              "      <td>12350</td>\n",
              "      <td>1</td>\n",
              "      <td>Jakarta</td>\n",
              "      <td>Weekend</td>\n",
              "    </tr>\n",
              "    <tr>\n",
              "      <th>3</th>\n",
              "      <td>4</td>\n",
              "      <td>Male</td>\n",
              "      <td>45</td>\n",
              "      <td>12000</td>\n",
              "      <td>1</td>\n",
              "      <td>Bandung</td>\n",
              "      <td>Weekday</td>\n",
              "    </tr>\n",
              "    <tr>\n",
              "      <th>4</th>\n",
              "      <td>5</td>\n",
              "      <td>Male</td>\n",
              "      <td>31</td>\n",
              "      <td>18000</td>\n",
              "      <td>10</td>\n",
              "      <td>Bandung</td>\n",
              "      <td>Weekend</td>\n",
              "    </tr>\n",
              "    <tr>\n",
              "      <th>...</th>\n",
              "      <td>...</td>\n",
              "      <td>...</td>\n",
              "      <td>...</td>\n",
              "      <td>...</td>\n",
              "      <td>...</td>\n",
              "      <td>...</td>\n",
              "      <td>...</td>\n",
              "    </tr>\n",
              "    <tr>\n",
              "      <th>195</th>\n",
              "      <td>196</td>\n",
              "      <td>Female</td>\n",
              "      <td>35</td>\n",
              "      <td>67500</td>\n",
              "      <td>79</td>\n",
              "      <td>Bandung</td>\n",
              "      <td>Weekday</td>\n",
              "    </tr>\n",
              "    <tr>\n",
              "      <th>196</th>\n",
              "      <td>197</td>\n",
              "      <td>Female</td>\n",
              "      <td>45</td>\n",
              "      <td>76000</td>\n",
              "      <td>28</td>\n",
              "      <td>Bandung</td>\n",
              "      <td>Weekday</td>\n",
              "    </tr>\n",
              "    <tr>\n",
              "      <th>197</th>\n",
              "      <td>198</td>\n",
              "      <td>Male</td>\n",
              "      <td>32</td>\n",
              "      <td>89000</td>\n",
              "      <td>74</td>\n",
              "      <td>Bandung</td>\n",
              "      <td>Weekday</td>\n",
              "    </tr>\n",
              "    <tr>\n",
              "      <th>198</th>\n",
              "      <td>199</td>\n",
              "      <td>Male</td>\n",
              "      <td>32</td>\n",
              "      <td>90000</td>\n",
              "      <td>18</td>\n",
              "      <td>Bandung</td>\n",
              "      <td>Weekday</td>\n",
              "    </tr>\n",
              "    <tr>\n",
              "      <th>199</th>\n",
              "      <td>200</td>\n",
              "      <td>Male</td>\n",
              "      <td>30</td>\n",
              "      <td>90000</td>\n",
              "      <td>83</td>\n",
              "      <td>Bandung</td>\n",
              "      <td>Weekday</td>\n",
              "    </tr>\n",
              "  </tbody>\n",
              "</table>\n",
              "<p>200 rows × 7 columns</p>\n",
              "</div>"
            ],
            "text/plain": [
              "     CustID  Gender  Age  AnnualIncome  CustScore (1-100) Hometown FavoriteTime\n",
              "0         1  Female   20         20000                  1  Jakarta      Weekend\n",
              "1         2    Male   21         34000                 81  Jakarta      Weekend\n",
              "2         3  Female   18         12350                  1  Jakarta      Weekend\n",
              "3         4    Male   45         12000                  1  Bandung      Weekday\n",
              "4         5    Male   31         18000                 10  Bandung      Weekend\n",
              "..      ...     ...  ...           ...                ...      ...          ...\n",
              "195     196  Female   35         67500                 79  Bandung      Weekday\n",
              "196     197  Female   45         76000                 28  Bandung      Weekday\n",
              "197     198    Male   32         89000                 74  Bandung      Weekday\n",
              "198     199    Male   32         90000                 18  Bandung      Weekday\n",
              "199     200    Male   30         90000                 83  Bandung      Weekday\n",
              "\n",
              "[200 rows x 7 columns]"
            ]
          },
          "metadata": {
            "tags": []
          },
          "execution_count": 64
        }
      ]
    },
    {
      "cell_type": "code",
      "metadata": {
        "id": "NCKVEDksWeK1",
        "colab_type": "code",
        "colab": {}
      },
      "source": [
        "data.set_index('CustID', inplace=True)"
      ],
      "execution_count": 65,
      "outputs": []
    },
    {
      "cell_type": "markdown",
      "metadata": {
        "id": "CW7fVPRuVriu",
        "colab_type": "text"
      },
      "source": [
        "\n",
        "\n",
        "> Data Exploration\n",
        "\n"
      ]
    },
    {
      "cell_type": "code",
      "metadata": {
        "id": "p5EMJHqlWvCv",
        "colab_type": "code",
        "colab": {
          "base_uri": "https://localhost:8080/",
          "height": 238
        },
        "outputId": "1928711b-0108-4a63-8dcc-1f56e2524176"
      },
      "source": [
        "data.info()"
      ],
      "execution_count": 66,
      "outputs": [
        {
          "output_type": "stream",
          "text": [
            "<class 'pandas.core.frame.DataFrame'>\n",
            "Int64Index: 200 entries, 1 to 200\n",
            "Data columns (total 6 columns):\n",
            " #   Column             Non-Null Count  Dtype \n",
            "---  ------             --------------  ----- \n",
            " 0   Gender             200 non-null    object\n",
            " 1   Age                200 non-null    int64 \n",
            " 2   AnnualIncome       200 non-null    int64 \n",
            " 3   CustScore (1-100)  200 non-null    int64 \n",
            " 4   Hometown           200 non-null    object\n",
            " 5   FavoriteTime       200 non-null    object\n",
            "dtypes: int64(3), object(3)\n",
            "memory usage: 10.9+ KB\n"
          ],
          "name": "stdout"
        }
      ]
    },
    {
      "cell_type": "code",
      "metadata": {
        "id": "FHIYTyHWW5nP",
        "colab_type": "code",
        "colab": {
          "base_uri": "https://localhost:8080/",
          "height": 34
        },
        "outputId": "8b4aed7c-56f0-4bbf-f853-dd9f0435e841"
      },
      "source": [
        "# melihat ukuran/dimensi data\n",
        "data.shape"
      ],
      "execution_count": 67,
      "outputs": [
        {
          "output_type": "execute_result",
          "data": {
            "text/plain": [
              "(200, 6)"
            ]
          },
          "metadata": {
            "tags": []
          },
          "execution_count": 67
        }
      ]
    },
    {
      "cell_type": "markdown",
      "metadata": {
        "id": "ifFW7YvHWReJ",
        "colab_type": "text"
      },
      "source": [
        "Karena column CustomerID sudah dihapus, jadinya ukuran data menjadi 6 kolom dengan 200 record"
      ]
    },
    {
      "cell_type": "code",
      "metadata": {
        "id": "T64J5XNdTVdV",
        "colab_type": "code",
        "colab": {
          "base_uri": "https://localhost:8080/",
          "height": 235
        },
        "outputId": "993f224e-0575-4382-f954-bddda67c7eb6"
      },
      "source": [
        "# menampilkan data dengan indeks 5 teratas\n",
        "data.head()"
      ],
      "execution_count": 68,
      "outputs": [
        {
          "output_type": "execute_result",
          "data": {
            "text/html": [
              "<div>\n",
              "<style scoped>\n",
              "    .dataframe tbody tr th:only-of-type {\n",
              "        vertical-align: middle;\n",
              "    }\n",
              "\n",
              "    .dataframe tbody tr th {\n",
              "        vertical-align: top;\n",
              "    }\n",
              "\n",
              "    .dataframe thead th {\n",
              "        text-align: right;\n",
              "    }\n",
              "</style>\n",
              "<table border=\"1\" class=\"dataframe\">\n",
              "  <thead>\n",
              "    <tr style=\"text-align: right;\">\n",
              "      <th></th>\n",
              "      <th>Gender</th>\n",
              "      <th>Age</th>\n",
              "      <th>AnnualIncome</th>\n",
              "      <th>CustScore (1-100)</th>\n",
              "      <th>Hometown</th>\n",
              "      <th>FavoriteTime</th>\n",
              "    </tr>\n",
              "    <tr>\n",
              "      <th>CustID</th>\n",
              "      <th></th>\n",
              "      <th></th>\n",
              "      <th></th>\n",
              "      <th></th>\n",
              "      <th></th>\n",
              "      <th></th>\n",
              "    </tr>\n",
              "  </thead>\n",
              "  <tbody>\n",
              "    <tr>\n",
              "      <th>1</th>\n",
              "      <td>Female</td>\n",
              "      <td>20</td>\n",
              "      <td>20000</td>\n",
              "      <td>1</td>\n",
              "      <td>Jakarta</td>\n",
              "      <td>Weekend</td>\n",
              "    </tr>\n",
              "    <tr>\n",
              "      <th>2</th>\n",
              "      <td>Male</td>\n",
              "      <td>21</td>\n",
              "      <td>34000</td>\n",
              "      <td>81</td>\n",
              "      <td>Jakarta</td>\n",
              "      <td>Weekend</td>\n",
              "    </tr>\n",
              "    <tr>\n",
              "      <th>3</th>\n",
              "      <td>Female</td>\n",
              "      <td>18</td>\n",
              "      <td>12350</td>\n",
              "      <td>1</td>\n",
              "      <td>Jakarta</td>\n",
              "      <td>Weekend</td>\n",
              "    </tr>\n",
              "    <tr>\n",
              "      <th>4</th>\n",
              "      <td>Male</td>\n",
              "      <td>45</td>\n",
              "      <td>12000</td>\n",
              "      <td>1</td>\n",
              "      <td>Bandung</td>\n",
              "      <td>Weekday</td>\n",
              "    </tr>\n",
              "    <tr>\n",
              "      <th>5</th>\n",
              "      <td>Male</td>\n",
              "      <td>31</td>\n",
              "      <td>18000</td>\n",
              "      <td>10</td>\n",
              "      <td>Bandung</td>\n",
              "      <td>Weekend</td>\n",
              "    </tr>\n",
              "  </tbody>\n",
              "</table>\n",
              "</div>"
            ],
            "text/plain": [
              "        Gender  Age  AnnualIncome  CustScore (1-100) Hometown FavoriteTime\n",
              "CustID                                                                    \n",
              "1       Female   20         20000                  1  Jakarta      Weekend\n",
              "2         Male   21         34000                 81  Jakarta      Weekend\n",
              "3       Female   18         12350                  1  Jakarta      Weekend\n",
              "4         Male   45         12000                  1  Bandung      Weekday\n",
              "5         Male   31         18000                 10  Bandung      Weekend"
            ]
          },
          "metadata": {
            "tags": []
          },
          "execution_count": 68
        }
      ]
    },
    {
      "cell_type": "markdown",
      "metadata": {
        "id": "V7hJaiT4aN25",
        "colab_type": "text"
      },
      "source": [
        "replace string to integer "
      ]
    },
    {
      "cell_type": "code",
      "metadata": {
        "id": "tA4VONjqTRj8",
        "colab_type": "code",
        "colab": {
          "base_uri": "https://localhost:8080/",
          "height": 297
        },
        "outputId": "91d768ae-47ac-4f1f-95ee-936b468dae04"
      },
      "source": [
        "data.describe()"
      ],
      "execution_count": 69,
      "outputs": [
        {
          "output_type": "execute_result",
          "data": {
            "text/html": [
              "<div>\n",
              "<style scoped>\n",
              "    .dataframe tbody tr th:only-of-type {\n",
              "        vertical-align: middle;\n",
              "    }\n",
              "\n",
              "    .dataframe tbody tr th {\n",
              "        vertical-align: top;\n",
              "    }\n",
              "\n",
              "    .dataframe thead th {\n",
              "        text-align: right;\n",
              "    }\n",
              "</style>\n",
              "<table border=\"1\" class=\"dataframe\">\n",
              "  <thead>\n",
              "    <tr style=\"text-align: right;\">\n",
              "      <th></th>\n",
              "      <th>Age</th>\n",
              "      <th>AnnualIncome</th>\n",
              "      <th>CustScore (1-100)</th>\n",
              "    </tr>\n",
              "  </thead>\n",
              "  <tbody>\n",
              "    <tr>\n",
              "      <th>count</th>\n",
              "      <td>200.000000</td>\n",
              "      <td>200.000000</td>\n",
              "      <td>200.000000</td>\n",
              "    </tr>\n",
              "    <tr>\n",
              "      <th>mean</th>\n",
              "      <td>39.415000</td>\n",
              "      <td>44234.100000</td>\n",
              "      <td>46.915000</td>\n",
              "    </tr>\n",
              "    <tr>\n",
              "      <th>std</th>\n",
              "      <td>13.956241</td>\n",
              "      <td>21477.387318</td>\n",
              "      <td>28.979941</td>\n",
              "    </tr>\n",
              "    <tr>\n",
              "      <th>min</th>\n",
              "      <td>18.000000</td>\n",
              "      <td>10000.000000</td>\n",
              "      <td>1.000000</td>\n",
              "    </tr>\n",
              "    <tr>\n",
              "      <th>25%</th>\n",
              "      <td>30.000000</td>\n",
              "      <td>24545.000000</td>\n",
              "      <td>22.000000</td>\n",
              "    </tr>\n",
              "    <tr>\n",
              "      <th>50%</th>\n",
              "      <td>36.000000</td>\n",
              "      <td>45000.000000</td>\n",
              "      <td>46.000000</td>\n",
              "    </tr>\n",
              "    <tr>\n",
              "      <th>75%</th>\n",
              "      <td>49.000000</td>\n",
              "      <td>60000.000000</td>\n",
              "      <td>69.000000</td>\n",
              "    </tr>\n",
              "    <tr>\n",
              "      <th>max</th>\n",
              "      <td>75.000000</td>\n",
              "      <td>90000.000000</td>\n",
              "      <td>100.000000</td>\n",
              "    </tr>\n",
              "  </tbody>\n",
              "</table>\n",
              "</div>"
            ],
            "text/plain": [
              "              Age  AnnualIncome  CustScore (1-100)\n",
              "count  200.000000    200.000000         200.000000\n",
              "mean    39.415000  44234.100000          46.915000\n",
              "std     13.956241  21477.387318          28.979941\n",
              "min     18.000000  10000.000000           1.000000\n",
              "25%     30.000000  24545.000000          22.000000\n",
              "50%     36.000000  45000.000000          46.000000\n",
              "75%     49.000000  60000.000000          69.000000\n",
              "max     75.000000  90000.000000         100.000000"
            ]
          },
          "metadata": {
            "tags": []
          },
          "execution_count": 69
        }
      ]
    },
    {
      "cell_type": "markdown",
      "metadata": {
        "id": "kzLZx-9hYLcp",
        "colab_type": "text"
      },
      "source": [
        "Statistical Insights : \n",
        "\n",
        "\n",
        "> Rata-rata usia customer yang membeli adalah 39 tahun dengan usia minimal 18 tahun dan maksimal 75 tahun \n",
        "\n",
        "> 3/4 customer yang membeli rata-rata usia 49 tahun\n",
        "\n",
        "> Average Annual Income of customer purchsing in Rata-rata gaji tahunan dari customer yang membeli di mall adalah 60.000000, max 90.000000 dan min 10.000000\n",
        "\n",
        "\n",
        "\n",
        "\n",
        "\n"
      ]
    },
    {
      "cell_type": "markdown",
      "metadata": {
        "id": "ld79lo0ulW5D",
        "colab_type": "text"
      },
      "source": [
        "Data Cleaning"
      ]
    },
    {
      "cell_type": "code",
      "metadata": {
        "id": "Ffg8DKHjXBHy",
        "colab_type": "code",
        "colab": {
          "base_uri": "https://localhost:8080/",
          "height": 136
        },
        "outputId": "05d15d58-1e3d-4628-d05f-eeb77aba6b8a"
      },
      "source": [
        "data.isna().sum()"
      ],
      "execution_count": 70,
      "outputs": [
        {
          "output_type": "execute_result",
          "data": {
            "text/plain": [
              "Gender               0\n",
              "Age                  0\n",
              "AnnualIncome         0\n",
              "CustScore (1-100)    0\n",
              "Hometown             0\n",
              "FavoriteTime         0\n",
              "dtype: int64"
            ]
          },
          "metadata": {
            "tags": []
          },
          "execution_count": 70
        }
      ]
    },
    {
      "cell_type": "code",
      "metadata": {
        "id": "vOJTaTOXXGpD",
        "colab_type": "code",
        "colab": {}
      },
      "source": [
        "data.duplicated().sum()\n",
        "random.seed(10)"
      ],
      "execution_count": 71,
      "outputs": []
    },
    {
      "cell_type": "code",
      "metadata": {
        "id": "1ZZJbKLOTt17",
        "colab_type": "code",
        "colab": {}
      },
      "source": [
        "data['AnnualIncome'] = data['AnnualIncome'].div(1000)"
      ],
      "execution_count": 72,
      "outputs": []
    },
    {
      "cell_type": "code",
      "metadata": {
        "id": "8OCBKxFdTnQ3",
        "colab_type": "code",
        "colab": {
          "base_uri": "https://localhost:8080/",
          "height": 235
        },
        "outputId": "f9e62558-a963-46b9-a4c4-8ed39603c242"
      },
      "source": [
        "#data['Gender'].replace({'Female':'0','Male':'1'},inplace=True)\n",
        "data['Gender'].replace(['Female','Male'], [0,1],inplace=True)\n",
        "data['FavoriteTime'].replace(['Weekend','Weekday'], [0,1],inplace=True)\n",
        "data['Hometown'].replace(['Jakarta', 'Bandung', 'Surabaya', 'Solo', 'Semarang', 'Padang', 'Palangkaraya'], [1,2,3,4,5,6,7], inplace=True)\n",
        "data.head()"
      ],
      "execution_count": 73,
      "outputs": [
        {
          "output_type": "execute_result",
          "data": {
            "text/html": [
              "<div>\n",
              "<style scoped>\n",
              "    .dataframe tbody tr th:only-of-type {\n",
              "        vertical-align: middle;\n",
              "    }\n",
              "\n",
              "    .dataframe tbody tr th {\n",
              "        vertical-align: top;\n",
              "    }\n",
              "\n",
              "    .dataframe thead th {\n",
              "        text-align: right;\n",
              "    }\n",
              "</style>\n",
              "<table border=\"1\" class=\"dataframe\">\n",
              "  <thead>\n",
              "    <tr style=\"text-align: right;\">\n",
              "      <th></th>\n",
              "      <th>Gender</th>\n",
              "      <th>Age</th>\n",
              "      <th>AnnualIncome</th>\n",
              "      <th>CustScore (1-100)</th>\n",
              "      <th>Hometown</th>\n",
              "      <th>FavoriteTime</th>\n",
              "    </tr>\n",
              "    <tr>\n",
              "      <th>CustID</th>\n",
              "      <th></th>\n",
              "      <th></th>\n",
              "      <th></th>\n",
              "      <th></th>\n",
              "      <th></th>\n",
              "      <th></th>\n",
              "    </tr>\n",
              "  </thead>\n",
              "  <tbody>\n",
              "    <tr>\n",
              "      <th>1</th>\n",
              "      <td>0</td>\n",
              "      <td>20</td>\n",
              "      <td>20.00</td>\n",
              "      <td>1</td>\n",
              "      <td>1</td>\n",
              "      <td>0</td>\n",
              "    </tr>\n",
              "    <tr>\n",
              "      <th>2</th>\n",
              "      <td>1</td>\n",
              "      <td>21</td>\n",
              "      <td>34.00</td>\n",
              "      <td>81</td>\n",
              "      <td>1</td>\n",
              "      <td>0</td>\n",
              "    </tr>\n",
              "    <tr>\n",
              "      <th>3</th>\n",
              "      <td>0</td>\n",
              "      <td>18</td>\n",
              "      <td>12.35</td>\n",
              "      <td>1</td>\n",
              "      <td>1</td>\n",
              "      <td>0</td>\n",
              "    </tr>\n",
              "    <tr>\n",
              "      <th>4</th>\n",
              "      <td>1</td>\n",
              "      <td>45</td>\n",
              "      <td>12.00</td>\n",
              "      <td>1</td>\n",
              "      <td>2</td>\n",
              "      <td>1</td>\n",
              "    </tr>\n",
              "    <tr>\n",
              "      <th>5</th>\n",
              "      <td>1</td>\n",
              "      <td>31</td>\n",
              "      <td>18.00</td>\n",
              "      <td>10</td>\n",
              "      <td>2</td>\n",
              "      <td>0</td>\n",
              "    </tr>\n",
              "  </tbody>\n",
              "</table>\n",
              "</div>"
            ],
            "text/plain": [
              "        Gender  Age  AnnualIncome  CustScore (1-100)  Hometown  FavoriteTime\n",
              "CustID                                                                      \n",
              "1            0   20         20.00                  1         1             0\n",
              "2            1   21         34.00                 81         1             0\n",
              "3            0   18         12.35                  1         1             0\n",
              "4            1   45         12.00                  1         2             1\n",
              "5            1   31         18.00                 10         2             0"
            ]
          },
          "metadata": {
            "tags": []
          },
          "execution_count": 73
        }
      ]
    },
    {
      "cell_type": "markdown",
      "metadata": {
        "id": "QZWhUCkkZTE8",
        "colab_type": "text"
      },
      "source": [
        "There are no duplicated or missing values"
      ]
    },
    {
      "cell_type": "markdown",
      "metadata": {
        "id": "vZQc2DlVlhaJ",
        "colab_type": "text"
      },
      "source": [
        "Data Visualization"
      ]
    },
    {
      "cell_type": "code",
      "metadata": {
        "id": "yx7fFRayXLt4",
        "colab_type": "code",
        "colab": {
          "base_uri": "https://localhost:8080/",
          "height": 68
        },
        "outputId": "0f4fe289-8571-439a-ec6c-9f6c06c5afd0"
      },
      "source": [
        "data.columns"
      ],
      "execution_count": 74,
      "outputs": [
        {
          "output_type": "execute_result",
          "data": {
            "text/plain": [
              "Index(['Gender', 'Age', 'AnnualIncome', 'CustScore (1-100)', 'Hometown',\n",
              "       'FavoriteTime'],\n",
              "      dtype='object')"
            ]
          },
          "metadata": {
            "tags": []
          },
          "execution_count": 74
        }
      ]
    },
    {
      "cell_type": "code",
      "metadata": {
        "id": "8jZV28R7XtQa",
        "colab_type": "code",
        "colab": {}
      },
      "source": [
        "data.rename(columns={'AnnualIncome': 'Annual_Income', 'CustScore (1-100)': 'Spending_Score'}, inplace = True)"
      ],
      "execution_count": 75,
      "outputs": []
    },
    {
      "cell_type": "code",
      "metadata": {
        "id": "LHfu0MgxYF4d",
        "colab_type": "code",
        "colab": {
          "base_uri": "https://localhost:8080/",
          "height": 235
        },
        "outputId": "ed23013d-382c-4bcd-a448-96e1155ae050"
      },
      "source": [
        "data.head()"
      ],
      "execution_count": 76,
      "outputs": [
        {
          "output_type": "execute_result",
          "data": {
            "text/html": [
              "<div>\n",
              "<style scoped>\n",
              "    .dataframe tbody tr th:only-of-type {\n",
              "        vertical-align: middle;\n",
              "    }\n",
              "\n",
              "    .dataframe tbody tr th {\n",
              "        vertical-align: top;\n",
              "    }\n",
              "\n",
              "    .dataframe thead th {\n",
              "        text-align: right;\n",
              "    }\n",
              "</style>\n",
              "<table border=\"1\" class=\"dataframe\">\n",
              "  <thead>\n",
              "    <tr style=\"text-align: right;\">\n",
              "      <th></th>\n",
              "      <th>Gender</th>\n",
              "      <th>Age</th>\n",
              "      <th>Annual_Income</th>\n",
              "      <th>Spending_Score</th>\n",
              "      <th>Hometown</th>\n",
              "      <th>FavoriteTime</th>\n",
              "    </tr>\n",
              "    <tr>\n",
              "      <th>CustID</th>\n",
              "      <th></th>\n",
              "      <th></th>\n",
              "      <th></th>\n",
              "      <th></th>\n",
              "      <th></th>\n",
              "      <th></th>\n",
              "    </tr>\n",
              "  </thead>\n",
              "  <tbody>\n",
              "    <tr>\n",
              "      <th>1</th>\n",
              "      <td>0</td>\n",
              "      <td>20</td>\n",
              "      <td>20.00</td>\n",
              "      <td>1</td>\n",
              "      <td>1</td>\n",
              "      <td>0</td>\n",
              "    </tr>\n",
              "    <tr>\n",
              "      <th>2</th>\n",
              "      <td>1</td>\n",
              "      <td>21</td>\n",
              "      <td>34.00</td>\n",
              "      <td>81</td>\n",
              "      <td>1</td>\n",
              "      <td>0</td>\n",
              "    </tr>\n",
              "    <tr>\n",
              "      <th>3</th>\n",
              "      <td>0</td>\n",
              "      <td>18</td>\n",
              "      <td>12.35</td>\n",
              "      <td>1</td>\n",
              "      <td>1</td>\n",
              "      <td>0</td>\n",
              "    </tr>\n",
              "    <tr>\n",
              "      <th>4</th>\n",
              "      <td>1</td>\n",
              "      <td>45</td>\n",
              "      <td>12.00</td>\n",
              "      <td>1</td>\n",
              "      <td>2</td>\n",
              "      <td>1</td>\n",
              "    </tr>\n",
              "    <tr>\n",
              "      <th>5</th>\n",
              "      <td>1</td>\n",
              "      <td>31</td>\n",
              "      <td>18.00</td>\n",
              "      <td>10</td>\n",
              "      <td>2</td>\n",
              "      <td>0</td>\n",
              "    </tr>\n",
              "  </tbody>\n",
              "</table>\n",
              "</div>"
            ],
            "text/plain": [
              "        Gender  Age  Annual_Income  Spending_Score  Hometown  FavoriteTime\n",
              "CustID                                                                    \n",
              "1            0   20          20.00               1         1             0\n",
              "2            1   21          34.00              81         1             0\n",
              "3            0   18          12.35               1         1             0\n",
              "4            1   45          12.00               1         2             1\n",
              "5            1   31          18.00              10         2             0"
            ]
          },
          "metadata": {
            "tags": []
          },
          "execution_count": 76
        }
      ]
    },
    {
      "cell_type": "markdown",
      "metadata": {
        "id": "w8BxkwsFlmtE",
        "colab_type": "text"
      },
      "source": [
        "Scatterplot"
      ]
    },
    {
      "cell_type": "code",
      "metadata": {
        "id": "a_bG4hVnYISK",
        "colab_type": "code",
        "colab": {
          "base_uri": "https://localhost:8080/",
          "height": 401
        },
        "outputId": "4bd19eb0-7b92-4cb2-dd2c-d86790f94561"
      },
      "source": [
        "plt.figure(1, figsize =(15,10))\n",
        "sns.lmplot(x = 'Age', y ='Annual_Income', hue='Gender', data = data)\n",
        "plt.xlabel('Age'), plt.ylabel('Annual_Income')\n",
        "plt.title('Age vs Annual Income w.r.t Gender')\n",
        "plt.show()"
      ],
      "execution_count": 77,
      "outputs": [
        {
          "output_type": "display_data",
          "data": {
            "text/plain": [
              "<Figure size 1080x720 with 0 Axes>"
            ]
          },
          "metadata": {
            "tags": []
          }
        },
        {
          "output_type": "display_data",
          "data": {
            "image/png": "[encoded data removed]",
            "text/plain": [
              "<Figure size 401.625x360 with 1 Axes>"
            ]
          },
          "metadata": {
            "tags": [],
            "needs_background": "light"
          }
        }
      ]
    },
    {
      "cell_type": "markdown",
      "metadata": {
        "id": "7mXglsi8nbgC",
        "colab_type": "text"
      },
      "source": [
        "Analysis:\n",
        "1. Rata rata Pria memiliki pendapatan tahunan lebih besar dari pada wanita hingga usia 60\n",
        "2. Setelah 55 tahun, Pria lebih cenderung mendapatkan pendapatan lebih rendah dari pasangan wanita\n"
      ]
    },
    {
      "cell_type": "code",
      "metadata": {
        "id": "FXnO1WICZhB9",
        "colab_type": "code",
        "colab": {
          "base_uri": "https://localhost:8080/",
          "height": 401
        },
        "outputId": "6a153a9a-20d2-4e30-a7e1-b472888f6e5c"
      },
      "source": [
        "plt.figure(1 , figsize = (15 , 6))\n",
        "sns.lmplot(x='Age', y='Spending_Score', hue='Gender', data=data)\n",
        "plt.xlabel('Age'), plt.ylabel('Spending_Score') \n",
        "plt.title('Age vs Spending_Score w.r.t Gender')\n",
        "plt.show()"
      ],
      "execution_count": 78,
      "outputs": [
        {
          "output_type": "display_data",
          "data": {
            "text/plain": [
              "<Figure size 1080x432 with 0 Axes>"
            ]
          },
          "metadata": {
            "tags": []
          }
        },
        {
          "output_type": "display_data",
          "data": {
            "image/png": "[encoded data removed]",
            "text/plain": [
              "<Figure size 401.625x360 with 1 Axes>"
            ]
          },
          "metadata": {
            "tags": [],
            "needs_background": "light"
          }
        }
      ]
    },
    {
      "cell_type": "markdown",
      "metadata": {
        "id": "NtfzS1nWoBeY",
        "colab_type": "text"
      },
      "source": [
        "Analysis:\n",
        "1. Hasil analisis mengatakan gender mengatakan bahwa usia berbanding terbalik dengan spending score\n",
        "2. Rata-rata, Wanita menghabiskan lebih pengeluaran dari pasangan pria hingga usia 50 tahun\n",
        "3. Setelah usia 50 tahun, pengeluaran wanita sedikit berkurang"
      ]
    },
    {
      "cell_type": "code",
      "metadata": {
        "id": "-zLry_hJbILI",
        "colab_type": "code",
        "colab": {
          "base_uri": "https://localhost:8080/",
          "height": 401
        },
        "outputId": "4ef278a3-fd42-41ea-e054-2168345ea3af"
      },
      "source": [
        "plt.figure(1 , figsize = (15 , 6))\n",
        "sns.lmplot(x='Annual_Income', y='Spending_Score', hue='Gender', data=data)\n",
        "plt.xlabel('Annual_Income'), plt.ylabel('Spending_Score') \n",
        "plt.title('Annual_Income vs Spending_Score w.r.t Gender')\n",
        "plt.show()"
      ],
      "execution_count": 79,
      "outputs": [
        {
          "output_type": "display_data",
          "data": {
            "text/plain": [
              "<Figure size 1080x432 with 0 Axes>"
            ]
          },
          "metadata": {
            "tags": []
          }
        },
        {
          "output_type": "display_data",
          "data": {
            "image/png": "[encoded data removed]",
            "text/plain": [
              "<Figure size 401.625x360 with 1 Axes>"
            ]
          },
          "metadata": {
            "tags": [],
            "needs_background": "light"
          }
        }
      ]
    },
    {
      "cell_type": "markdown",
      "metadata": {
        "id": "idaymHYDoo4K",
        "colab_type": "text"
      },
      "source": [
        "Analysis:\n",
        "1. Seiring dengan bertambahnya pendapatan, pria dan wanita cenderung menghabiskan uang lebih banyak"
      ]
    },
    {
      "cell_type": "markdown",
      "metadata": {
        "id": "Y6_nP2QXss7D",
        "colab_type": "text"
      },
      "source": [
        "Distplot"
      ]
    },
    {
      "cell_type": "code",
      "metadata": {
        "id": "5YWH3RauGx_U",
        "colab_type": "code",
        "colab": {
          "base_uri": "https://localhost:8080/",
          "height": 366
        },
        "outputId": "1aaf5ba3-a4df-4d84-9a4d-4fc71d41f22a"
      },
      "source": [
        "f, (ax1, ax2, ax3) = plt.subplots(1, 3, sharey=True)\n",
        "f.set_figheight(5)\n",
        "f.set_figwidth(10)\n",
        "sns.distplot(data['Age'], ax=ax1)\n",
        "ax1.set_title('Distplot of Age')\n",
        "\n",
        "sns.distplot(data['Annual_Income'], ax=ax2)\n",
        "ax2.set_title('Distplot of Annual_Income')\n",
        "\n",
        "sns.distplot(data['Spending_Score'], ax=ax3)\n",
        "ax3.set_title('Distplot of Spending_Score')\n"
      ],
      "execution_count": 80,
      "outputs": [
        {
          "output_type": "execute_result",
          "data": {
            "text/plain": [
              "Text(0.5, 1.0, 'Distplot of Spending_Score')"
            ]
          },
          "metadata": {
            "tags": []
          },
          "execution_count": 80
        },
        {
          "output_type": "display_data",
          "data": {
            "image/png": "[encoded data removed]",
            "text/plain": [
              "<Figure size 720x360 with 3 Axes>"
            ]
          },
          "metadata": {
            "tags": [],
            "needs_background": "light"
          }
        }
      ]
    },
    {
      "cell_type": "markdown",
      "metadata": {
        "id": "r7Cjo08cs0rx",
        "colab_type": "text"
      },
      "source": [
        "Regplot"
      ]
    },
    {
      "cell_type": "code",
      "metadata": {
        "id": "Aa47vL9bLNoq",
        "colab_type": "code",
        "colab": {
          "base_uri": "https://localhost:8080/",
          "height": 388
        },
        "outputId": "d568cabf-2d0f-4547-ebd5-5fd4a9525c2f"
      },
      "source": [
        "plt.figure(1 , figsize = (15 , 6))\n",
        "ax = sns.boxplot(x=\"Age\", y=\"Annual_Income\", hue=\"Gender\",data=data, palette=sns.color_palette(\"muted\"))"
      ],
      "execution_count": 81,
      "outputs": [
        {
          "output_type": "display_data",
          "data": {
            "image/png": "[encoded data removed]",
            "text/plain": [
              "<Figure size 1080x432 with 1 Axes>"
            ]
          },
          "metadata": {
            "tags": [],
            "needs_background": "light"
          }
        }
      ]
    },
    {
      "cell_type": "code",
      "metadata": {
        "id": "0ouNlK6pLQMR",
        "colab_type": "code",
        "colab": {
          "base_uri": "https://localhost:8080/",
          "height": 388
        },
        "outputId": "c2c1eca0-3e05-4928-ac27-9b09d5f51fb2"
      },
      "source": [
        "plt.figure(1 , figsize = (15 , 6))\n",
        "ax = sns.boxplot(x=\"Age\", y=\"Gender\", data=data)"
      ],
      "execution_count": 82,
      "outputs": [
        {
          "output_type": "display_data",
          "data": {
            "image/png": "[encoded data removed]",
            "text/plain": [
              "<Figure size 1080x432 with 1 Axes>"
            ]
          },
          "metadata": {
            "tags": [],
            "needs_background": "light"
          }
        }
      ]
    },
    {
      "cell_type": "code",
      "metadata": {
        "id": "uwb0kwv4LUlp",
        "colab_type": "code",
        "colab": {
          "base_uri": "https://localhost:8080/",
          "height": 388
        },
        "outputId": "e279ab8f-583f-4a8d-b1cc-c6443ff4a420"
      },
      "source": [
        "plt.figure(1 , figsize = (15 , 6))\n",
        "ax = sns.boxplot(x=\"Annual_Income\", y=\"Gender\", data=data)"
      ],
      "execution_count": 83,
      "outputs": [
        {
          "output_type": "display_data",
          "data": {
            "image/png": "[encoded data removed]",
            "text/plain": [
              "<Figure size 1080x432 with 1 Axes>"
            ]
          },
          "metadata": {
            "tags": [],
            "needs_background": "light"
          }
        }
      ]
    },
    {
      "cell_type": "code",
      "metadata": {
        "id": "5_iIPe1cLW5_",
        "colab_type": "code",
        "colab": {
          "base_uri": "https://localhost:8080/",
          "height": 388
        },
        "outputId": "42fee643-8023-4add-86ba-2225e21d6060"
      },
      "source": [
        "plt.figure(1 , figsize = (15 , 6))\n",
        "ax = sns.boxplot(x=\"Spending_Score\", y=\"Gender\", data=data)"
      ],
      "execution_count": 84,
      "outputs": [
        {
          "output_type": "display_data",
          "data": {
            "image/png": "[encoded data removed]",
            "text/plain": [
              "<Figure size 1080x432 with 1 Axes>"
            ]
          },
          "metadata": {
            "tags": [],
            "needs_background": "light"
          }
        }
      ]
    },
    {
      "cell_type": "code",
      "metadata": {
        "id": "dx28sj1hXHuT",
        "colab_type": "code",
        "colab": {
          "base_uri": "https://localhost:8080/",
          "height": 388
        },
        "outputId": "ea5bb224-3cfe-43f2-e0a2-8e9cd47f4d2c"
      },
      "source": [
        "plt.figure(1 , figsize = (15 , 6))\n",
        "ax = sns.boxplot(x=\"Age\", y=\"Gender\", data=data)"
      ],
      "execution_count": 85,
      "outputs": [
        {
          "output_type": "display_data",
          "data": {
            "image/png": "[encoded data removed]",
            "text/plain": [
              "<Figure size 1080x432 with 1 Axes>"
            ]
          },
          "metadata": {
            "tags": [],
            "needs_background": "light"
          }
        }
      ]
    },
    {
      "cell_type": "code",
      "metadata": {
        "id": "IERk6PNHXMAv",
        "colab_type": "code",
        "colab": {
          "base_uri": "https://localhost:8080/",
          "height": 388
        },
        "outputId": "da315426-e15d-4671-bc2b-6945ebf28a65"
      },
      "source": [
        "plt.figure(1 , figsize = (15 , 6))\n",
        "ax = sns.boxplot(x=\"Annual_Income\", y=\"Gender\", data=data)"
      ],
      "execution_count": 86,
      "outputs": [
        {
          "output_type": "display_data",
          "data": {
            "image/png": "[encoded data removed]",
            "text/plain": [
              "<Figure size 1080x432 with 1 Axes>"
            ]
          },
          "metadata": {
            "tags": [],
            "needs_background": "light"
          }
        }
      ]
    },
    {
      "cell_type": "code",
      "metadata": {
        "id": "KdWNXO1yXQ6k",
        "colab_type": "code",
        "colab": {
          "base_uri": "https://localhost:8080/",
          "height": 388
        },
        "outputId": "cb4e06d7-a759-459b-fa61-1f907fefdf37"
      },
      "source": [
        "plt.figure(1 , figsize = (15 , 6))\n",
        "ax = sns.boxplot(x=\"Spending_Score\", y=\"Gender\", data=data)"
      ],
      "execution_count": 87,
      "outputs": [
        {
          "output_type": "display_data",
          "data": {
            "image/png": "[encoded data removed]",
            "text/plain": [
              "<Figure size 1080x432 with 1 Axes>"
            ]
          },
          "metadata": {
            "tags": [],
            "needs_background": "light"
          }
        }
      ]
    },
    {
      "cell_type": "markdown",
      "metadata": {
        "id": "vtmkGqtZvC4g",
        "colab_type": "text"
      },
      "source": [
        "Menggunakan algoritma klustering:\n",
        "\n",
        "**K-means Alhorithm**\n",
        "\n",
        "menggunakan elbow method untuk memilih angka optimal dari kluster. elbow atau siku adalah indikasi yang baik bahwa model paling cocok pada titik itu.\n",
        "\n",
        "**1. Segmentasi menggunakan Umur dan nilai pengeluaran**"
      ]
    },
    {
      "cell_type": "code",
      "metadata": {
        "id": "zo2Ab01kLZgC",
        "colab_type": "code",
        "colab": {
          "base_uri": "https://localhost:8080/",
          "height": 387
        },
        "outputId": "f509babc-cd80-4409-a4aa-11a0857b592c"
      },
      "source": [
        "df1 = data[['Age', 'Spending_Score']].values\n",
        "algorithm = KElbowVisualizer(KMeans(init='k-means++',algorithm='elkan'), k=12, metric=\"distortion\")\n",
        "algorithm.fit(df1)"
      ],
      "execution_count": 88,
      "outputs": [
        {
          "output_type": "stream",
          "text": [
            "/usr/local/lib/python3.6/dist-packages/sklearn/base.py:197: FutureWarning:\n",
            "\n",
            "From version 0.24, get_params will raise an AttributeError if a parameter cannot be retrieved as an instance attribute. Previously it would return None.\n",
            "\n"
          ],
          "name": "stderr"
        },
        {
          "output_type": "execute_result",
          "data": {
            "text/plain": [
              "KElbowVisualizer(ax=<matplotlib.axes._subplots.AxesSubplot object at 0x7f24996e11d0>,\n",
              "                 k=None, metric=None, model=None, timings=True)"
            ]
          },
          "metadata": {
            "tags": []
          },
          "execution_count": 88
        },
        {
          "output_type": "display_data",
          "data": {
            "image/png": "[encoded data removed]",
            "text/plain": [
              "<Figure size 432x288 with 2 Axes>"
            ]
          },
          "metadata": {
            "tags": [],
            "needs_background": "light"
          }
        }
      ]
    },
    {
      "cell_type": "markdown",
      "metadata": {
        "id": "w1CbhtlCtXk8",
        "colab_type": "text"
      },
      "source": [
        "Metrik parameter penilaian di set ke distortion, yang menghitung jumlah dari squared distance dari tiap titik ke tengah.\n",
        "\n",
        "Visualisasi diatas menunjukan bahwa 5 kluster akan optimal dengan maksud untuk mensegmentasikan customer kita ke dalam bagian berbeda berdasarkan umur dan nilai pengeluaran"
      ]
    },
    {
      "cell_type": "code",
      "metadata": {
        "id": "e1Bhr12jGakt",
        "colab_type": "code",
        "colab": {}
      },
      "source": [
        "algorithm = (KMeans(n_clusters = 5 ,init='k-means++', algorithm='elkan') )\n",
        "algorithm.fit(df1)\n",
        "labels1 = algorithm.labels_\n",
        "centroids1 = algorithm.cluster_centers_\n",
        "y_km = algorithm.fit_predict(df1)"
      ],
      "execution_count": 89,
      "outputs": []
    },
    {
      "cell_type": "code",
      "metadata": {
        "id": "1Ib2wHMZGdZ0",
        "colab_type": "code",
        "colab": {
          "base_uri": "https://localhost:8080/",
          "height": 311
        },
        "outputId": "883efda0-a3a1-4521-c7e4-b1fa340a0e57"
      },
      "source": [
        "plt.scatter(df1[y_km ==0,0], df1[y_km == 0,1], s=100, c='red')\n",
        "plt.scatter(df1[y_km ==1,0], df1[y_km == 1,1], s=100, c='black')\n",
        "plt.scatter(df1[y_km ==2,0], df1[y_km == 2,1], s=100, c='blue')\n",
        "plt.scatter(df1[y_km ==3,0], df1[y_km == 3,1], s=100, c='cyan')\n",
        "plt.xlabel('Age')\n",
        "plt.ylabel('Spending_Score')\n",
        "plt.title('Segmentation using Age and Spending Score')"
      ],
      "execution_count": 90,
      "outputs": [
        {
          "output_type": "execute_result",
          "data": {
            "text/plain": [
              "Text(0.5, 1.0, 'Segmentation using Age and Spending Score')"
            ]
          },
          "metadata": {
            "tags": []
          },
          "execution_count": 90
        },
        {
          "output_type": "display_data",
          "data": {
            "image/png": "[encoded data removed]",
            "text/plain": [
              "<Figure size 432x288 with 1 Axes>"
            ]
          },
          "metadata": {
            "tags": [],
            "needs_background": "light"
          }
        }
      ]
    },
    {
      "cell_type": "markdown",
      "metadata": {
        "id": "0pcvEa7xuGAR",
        "colab_type": "text"
      },
      "source": [
        "**2. Segmentation using Annual Income and Spending Score**"
      ]
    },
    {
      "cell_type": "code",
      "metadata": {
        "id": "WIVe9K5QGnLG",
        "colab_type": "code",
        "colab": {
          "base_uri": "https://localhost:8080/",
          "height": 387
        },
        "outputId": "e7168f79-e968-450f-a459-e47825363d01"
      },
      "source": [
        "df2 = data[['Annual_Income', 'Spending_Score']].values\n",
        "algorithm = KElbowVisualizer(KMeans(init='k-means++',algorithm='elkan'), k=12, metric=\"distortion\")\n",
        "algorithm.fit(df2)"
      ],
      "execution_count": 91,
      "outputs": [
        {
          "output_type": "stream",
          "text": [
            "/usr/local/lib/python3.6/dist-packages/sklearn/base.py:197: FutureWarning:\n",
            "\n",
            "From version 0.24, get_params will raise an AttributeError if a parameter cannot be retrieved as an instance attribute. Previously it would return None.\n",
            "\n"
          ],
          "name": "stderr"
        },
        {
          "output_type": "execute_result",
          "data": {
            "text/plain": [
              "KElbowVisualizer(ax=<matplotlib.axes._subplots.AxesSubplot object at 0x7f2498963048>,\n",
              "                 k=None, metric=None, model=None, timings=True)"
            ]
          },
          "metadata": {
            "tags": []
          },
          "execution_count": 91
        },
        {
          "output_type": "display_data",
          "data": {
            "image/png": "[encoded data removed]",
            "text/plain": [
              "<Figure size 432x288 with 2 Axes>"
            ]
          },
          "metadata": {
            "tags": [],
            "needs_background": "light"
          }
        }
      ]
    },
    {
      "cell_type": "markdown",
      "metadata": {
        "id": "2M7CUbmMuZyU",
        "colab_type": "text"
      },
      "source": [
        "Visualisasi diatas menunjukan bahwa 6 kluster adalah yang optimal untuk mensegmentasikan customer kita ke dalam bagian yang berbeda berdasarkan pendapatan tahunan dan nilai pengeluaran\n",
        "\n",
        "> Indented block\n",
        "\n"
      ]
    },
    {
      "cell_type": "code",
      "metadata": {
        "id": "wq_WpqXNGz4I",
        "colab_type": "code",
        "colab": {}
      },
      "source": [
        "algorithm = (KMeans(n_clusters = 6 ,init='k-means++', algorithm='elkan') )\n",
        "algorithm.fit(df2)\n",
        "labels1 = algorithm.labels_\n",
        "centroids1 = algorithm.cluster_centers_\n",
        "y_km = algorithm.fit_predict(df2)"
      ],
      "execution_count": 92,
      "outputs": []
    },
    {
      "cell_type": "code",
      "metadata": {
        "id": "YFg5O4C0G4Ru",
        "colab_type": "code",
        "colab": {
          "base_uri": "https://localhost:8080/",
          "height": 311
        },
        "outputId": "f5910c89-b8dc-4f4a-ec62-53e2d57390f7"
      },
      "source": [
        "plt.scatter(df2[y_km ==0,0], df2[y_km == 0,1], s=100, c='red')\n",
        "plt.scatter(df2[y_km ==1,0], df2[y_km == 1,1], s=100, c='black')\n",
        "plt.scatter(df2[y_km ==2,0], df2[y_km == 2,1], s=100, c='blue')\n",
        "plt.scatter(df2[y_km ==3,0], df2[y_km == 3,1], s=100, c='cyan')\n",
        "plt.scatter(df2[y_km ==4,0], df2[y_km == 4,1], s=100, c='orange')\n",
        "\n",
        "plt.xlabel('Annual_Income')\n",
        "plt.ylabel('Spending_Score')\n",
        "plt.title('Segmentation using Annual Income and Spending Score')"
      ],
      "execution_count": 93,
      "outputs": [
        {
          "output_type": "execute_result",
          "data": {
            "text/plain": [
              "Text(0.5, 1.0, 'Segmentation using Annual Income and Spending Score')"
            ]
          },
          "metadata": {
            "tags": []
          },
          "execution_count": 93
        },
        {
          "output_type": "display_data",
          "data": {
            "image/png": "[encoded data removed]",
            "text/plain": [
              "<Figure size 432x288 with 1 Axes>"
            ]
          },
          "metadata": {
            "tags": [],
            "needs_background": "light"
          }
        }
      ]
    },
    {
      "cell_type": "markdown",
      "metadata": {
        "id": "hspUvKlov2FL",
        "colab_type": "text"
      },
      "source": [
        "**3. Segmentasi menggunakan Hometown dan Gender**\n"
      ]
    },
    {
      "cell_type": "code",
      "metadata": {
        "id": "FbHxPyBvPv96",
        "colab_type": "code",
        "colab": {
          "base_uri": "https://localhost:8080/",
          "height": 387
        },
        "outputId": "110e0263-a9b2-4730-fd59-fd10b4a1dc88"
      },
      "source": [
        "df4 = data[['Hometown', 'Gender']].values\n",
        "algorithm = KElbowVisualizer(KMeans(init='k-means++',algorithm='elkan'), k=12, metric=\"distortion\")\n",
        "algorithm.fit(df2)"
      ],
      "execution_count": 94,
      "outputs": [
        {
          "output_type": "stream",
          "text": [
            "/usr/local/lib/python3.6/dist-packages/sklearn/base.py:197: FutureWarning:\n",
            "\n",
            "From version 0.24, get_params will raise an AttributeError if a parameter cannot be retrieved as an instance attribute. Previously it would return None.\n",
            "\n"
          ],
          "name": "stderr"
        },
        {
          "output_type": "execute_result",
          "data": {
            "text/plain": [
              "KElbowVisualizer(ax=<matplotlib.axes._subplots.AxesSubplot object at 0x7f2497e672b0>,\n",
              "                 k=None, metric=None, model=None, timings=True)"
            ]
          },
          "metadata": {
            "tags": []
          },
          "execution_count": 94
        },
        {
          "output_type": "display_data",
          "data": {
            "image/png": "[encoded data removed]",
            "text/plain": [
              "<Figure size 432x288 with 2 Axes>"
            ]
          },
          "metadata": {
            "tags": [],
            "needs_background": "light"
          }
        }
      ]
    },
    {
      "cell_type": "code",
      "metadata": {
        "id": "ZQj0z3HSQApZ",
        "colab_type": "code",
        "colab": {}
      },
      "source": [
        "algorithm = (KMeans(n_clusters = 7 ,init='k-means++', algorithm='elkan') )\n",
        "algorithm.fit(df4)\n",
        "labels1 = algorithm.labels_\n",
        "centroids1 = algorithm.cluster_centers_\n",
        "y_km = algorithm.fit_predict(df4)"
      ],
      "execution_count": 95,
      "outputs": []
    },
    {
      "cell_type": "code",
      "metadata": {
        "id": "kDi95XAkQJt5",
        "colab_type": "code",
        "colab": {
          "base_uri": "https://localhost:8080/",
          "height": 311
        },
        "outputId": "d2ae59ec-d6b7-4848-ec8e-2ffb67317a73"
      },
      "source": [
        "plt.scatter(df2[y_km ==0,0], df2[y_km == 0,1], s=100, c='red')\n",
        "plt.scatter(df2[y_km ==1,0], df2[y_km == 1,1], s=100, c='black')\n",
        "plt.scatter(df2[y_km ==2,0], df2[y_km == 2,1], s=100, c='blue')\n",
        "plt.scatter(df2[y_km ==3,0], df2[y_km == 3,1], s=100, c='cyan')\n",
        "plt.scatter(df2[y_km ==4,0], df2[y_km == 4,1], s=100, c='orange')\n",
        "\n",
        "plt.xlabel('Hometown')\n",
        "plt.ylabel('Gender')\n",
        "plt.title('Segmentation using Hometown and Gender')"
      ],
      "execution_count": 96,
      "outputs": [
        {
          "output_type": "execute_result",
          "data": {
            "text/plain": [
              "Text(0.5, 1.0, 'Segmentation using Hometown and Gender')"
            ]
          },
          "metadata": {
            "tags": []
          },
          "execution_count": 96
        },
        {
          "output_type": "display_data",
          "data": {
            "image/png": "[encoded data removed]",
            "text/plain": [
              "<Figure size 432x288 with 1 Axes>"
            ]
          },
          "metadata": {
            "tags": [],
            "needs_background": "light"
          }
        }
      ]
    },
    {
      "cell_type": "markdown",
      "metadata": {
        "id": "hnBFlD7qwOqU",
        "colab_type": "text"
      },
      "source": [
        "**4. Segmentasi menggunakan Umur, Pendapatan tahunan dan nilai pengeluaran**"
      ]
    },
    {
      "cell_type": "code",
      "metadata": {
        "id": "3a2tXGWpG7Rh",
        "colab_type": "code",
        "colab": {
          "base_uri": "https://localhost:8080/",
          "height": 387
        },
        "outputId": "6e4f7ef3-ff7d-4c04-c564-4f6238190450"
      },
      "source": [
        "df3 = data[['Age','Annual_Income', 'Spending_Score']].values\n",
        "algorithm = KElbowVisualizer(KMeans(init='k-means++',algorithm='elkan'), k=12, metric=\"distortion\")\n",
        "algorithm.fit(df3)\n"
      ],
      "execution_count": 97,
      "outputs": [
        {
          "output_type": "stream",
          "text": [
            "/usr/local/lib/python3.6/dist-packages/sklearn/base.py:197: FutureWarning:\n",
            "\n",
            "From version 0.24, get_params will raise an AttributeError if a parameter cannot be retrieved as an instance attribute. Previously it would return None.\n",
            "\n"
          ],
          "name": "stderr"
        },
        {
          "output_type": "execute_result",
          "data": {
            "text/plain": [
              "KElbowVisualizer(ax=<matplotlib.axes._subplots.AxesSubplot object at 0x7f249980f588>,\n",
              "                 k=None, metric=None, model=None, timings=True)"
            ]
          },
          "metadata": {
            "tags": []
          },
          "execution_count": 97
        },
        {
          "output_type": "display_data",
          "data": {
            "image/png": "[encoded data removed]",
            "text/plain": [
              "<Figure size 432x288 with 2 Axes>"
            ]
          },
          "metadata": {
            "tags": [],
            "needs_background": "light"
          }
        }
      ]
    },
    {
      "cell_type": "code",
      "metadata": {
        "id": "-8Jf2WTcHBT8",
        "colab_type": "code",
        "colab": {}
      },
      "source": [
        "algorithm = (KMeans(n_clusters = 7 ,init='k-means++', algorithm='elkan') )\n",
        "algorithm.fit(df3)\n",
        "labels1 = algorithm.labels_\n",
        "centroids1 = algorithm.cluster_centers_\n",
        "y_km = algorithm.fit_predict(df3)"
      ],
      "execution_count": 98,
      "outputs": []
    },
    {
      "cell_type": "code",
      "metadata": {
        "id": "6Imq17lYHTBT",
        "colab_type": "code",
        "colab": {
          "base_uri": "https://localhost:8080/",
          "height": 542
        },
        "outputId": "8914b433-3e31-4237-811d-7ea1820de0da"
      },
      "source": [
        "data['Cluster'] =  labels1\n",
        "trace1 = go.Scatter3d(\n",
        "    x= data['Age'],\n",
        "    y= data['Spending_Score'],\n",
        "    z= data['Annual_Income'],\n",
        "    mode='markers',\n",
        "     marker=dict(\n",
        "        color = data['Cluster'], \n",
        "        size= 30,\n",
        "        line=dict(\n",
        "            color= data['Cluster'],\n",
        "            width= 18\n",
        "        ),\n",
        "        opacity=0.8\n",
        "     )\n",
        "     )\n",
        "data1 = [trace1]\n",
        "layout = go.Layout(\n",
        "#     margin=dict(\n",
        "#         l=0,\n",
        "#         r=0,\n",
        "#         b=0,\n",
        "#         t=0\n",
        "#     )\n",
        "    title= 'Clusters',\n",
        "    scene = dict(\n",
        "            xaxis = dict(title  = 'Age'),\n",
        "            yaxis = dict(title  = 'Spending Score'),\n",
        "            zaxis = dict(title  = 'Annual Income')\n",
        "        )\n",
        ")\n",
        "fig = go.Figure(data=data1, layout=layout)\n",
        "py.offline.iplot(fig)"
      ],
      "execution_count": 99,
      "outputs": [
        {
          "output_type": "display_data",
          "data": {
            "text/html": [
              "<html>\n",
              "<head><meta charset=\"utf-8\" /></head>\n",
              "<body>\n",
              "    <div>\n",
              "            <script src=\"https://cdnjs.cloudflare.com/ajax/libs/mathjax/2.7.5/MathJax.js?config=TeX-AMS-MML_SVG\"></script><script type=\"text/javascript\">if (window.MathJax) {MathJax.Hub.Config({SVG: {font: \"STIX-Web\"}});}</script>\n",
              "                <script type=\"text/javascript\">window.PlotlyConfig = {MathJaxConfig: 'local'};</script>\n",
              "        <script src=\"https://cdn.plot.ly/plotly-latest.min.js\"></script>    \n",
              "            <div id=\"ee293d9e-32b3-4223-9888-c129764efca6\" class=\"plotly-graph-div\" style=\"height:525px; width:100%;\"></div>\n",
              "            <script type=\"text/javascript\">\n",
              "                \n",
              "                    window.PLOTLYENV=window.PLOTLYENV || {};\n",
              "                    \n",
              "                if (document.getElementById(\"ee293d9e-32b3-4223-9888-c129764efca6\")) {\n",
              "                    Plotly.newPlot(\n",
              "                        'ee293d9e-32b3-4223-9888-c129764efca6',\n",
              "                        [{\"marker\": {\"color\": [3, 2, 3, 3, 3, 3, 3, 2, 3, 3, 3, 3, 3, 2, 3, 2, 3, 3, 2, 2, 2, 2, 3, 3, 3, 3, 3, 3, 3, 2, 3, 2, 3, 2, 3, 3, 3, 2, 5, 3, 0, 2, 0, 0, 5, 1, 4, 1, 1, 1, 0, 0, 3, 0, 2, 2, 0, 0, 2, 0, 4, 1, 4, 4, 2, 1, 2, 0, 2, 0, 0, 4, 0, 0, 4, 1, 4, 4, 1, 4, 6, 4, 4, 0, 1, 5, 1, 1, 6, 0, 1, 1, 0, 4, 1, 4, 0, 2, 0, 1, 1, 4, 4, 1, 4, 1, 4, 4, 2, 2, 2, 1, 1, 5, 1, 1, 5, 0, 0, 0, 3, 3, 1, 5, 1, 6, 4, 6, 5, 6, 5, 6, 5, 6, 5, 6, 5, 0, 5, 5, 5, 1, 1, 6, 5, 1, 1, 1, 5, 1, 5, 1, 5, 0, 3, 2, 3, 0, 3, 6, 4, 6, 5, 6, 5, 6, 5, 6, 3, 1, 5, 2, 5, 2, 5, 2, 5, 1, 5, 2, 1, 2, 5, 6, 1, 6, 5, 1, 3, 2, 3, 2, 3, 6, 5, 6, 5, 6, 5, 6], \"line\": {\"color\": [3, 2, 3, 3, 3, 3, 3, 2, 3, 3, 3, 3, 3, 2, 3, 2, 3, 3, 2, 2, 2, 2, 3, 3, 3, 3, 3, 3, 3, 2, 3, 2, 3, 2, 3, 3, 3, 2, 5, 3, 0, 2, 0, 0, 5, 1, 4, 1, 1, 1, 0, 0, 3, 0, 2, 2, 0, 0, 2, 0, 4, 1, 4, 4, 2, 1, 2, 0, 2, 0, 0, 4, 0, 0, 4, 1, 4, 4, 1, 4, 6, 4, 4, 0, 1, 5, 1, 1, 6, 0, 1, 1, 0, 4, 1, 4, 0, 2, 0, 1, 1, 4, 4, 1, 4, 1, 4, 4, 2, 2, 2, 1, 1, 5, 1, 1, 5, 0, 0, 0, 3, 3, 1, 5, 1, 6, 4, 6, 5, 6, 5, 6, 5, 6, 5, 6, 5, 0, 5, 5, 5, 1, 1, 6, 5, 1, 1, 1, 5, 1, 5, 1, 5, 0, 3, 2, 3, 0, 3, 6, 4, 6, 5, 6, 5, 6, 5, 6, 3, 1, 5, 2, 5, 2, 5, 2, 5, 1, 5, 2, 1, 2, 5, 6, 1, 6, 5, 1, 3, 2, 3, 2, 3, 6, 5, 6, 5, 6, 5, 6], \"width\": 18}, \"opacity\": 0.8, \"size\": 30}, \"mode\": \"markers\", \"type\": \"scatter3d\", \"x\": [20, 21, 18, 45, 31, 50, 35, 23, 50, 34, 67, 35, 65, 24, 37, 60, 35, 32, 45, 40, 35, 25, 30, 32, 54, 29, 45, 35, 40, 23, 60, 21, 53, 18, 49, 21, 42, 30, 36, 20, 65, 24, 48, 31, 49, 24, 50, 27, 29, 31, 49, 33, 31, 59, 50, 47, 51, 69, 27, 53, 70, 19, 67, 54, 63, 18, 43, 68, 19, 32, 70, 47, 60, 60, 59, 26, 45, 40, 23, 49, 57, 38, 67, 46, 21, 48, 30, 30, 30, 50, 23, 18, 43, 34, 46, 64, 47, 57, 75, 20, 23, 49, 67, 26, 49, 21, 66, 54, 68, 66, 65, 19, 38, 19, 18, 19, 63, 49, 51, 50, 27, 38, 40, 39, 23, 31, 43, 40, 59, 38, 47, 39, 25, 31, 20, 29, 44, 32, 19, 35, 57, 32, 28, 32, 25, 28, 48, 32, 34, 34, 43, 39, 44, 38, 47, 27, 37, 30, 34, 30, 56, 29, 19, 31, 50, 36, 42, 33, 36, 32, 40, 28, 36, 36, 52, 30, 58, 27, 59, 35, 37, 32, 46, 29, 41, 30, 54, 28, 41, 36, 34, 32, 33, 38, 47, 35, 45, 32, 32, 30], \"y\": [1, 81, 1, 1, 10, 10, 6, 94, 21, 10, 14, 23, 15, 77, 34, 79, 35, 20, 99, 98, 100, 73, 5, 1, 14, 1, 32, 1, 31, 87, 21, 73, 23, 92, 22, 22, 22, 73, 25, 34, 35, 92, 35, 61, 22, 56, 55, 43, 42, 42, 54, 60, 33, 60, 100, 100, 50, 46, 98, 46, 57, 55, 67, 59, 89, 59, 88, 48, 87, 47, 65, 42, 43, 56, 44, 54, 46, 48, 57, 42, 79, 55, 41, 33, 57, 32, 45, 55, 57, 46, 54, 41, 55, 40, 44, 52, 47, 78, 42, 44, 41, 33, 59, 56, 56, 42, 76, 46, 100, 100, 100, 54, 42, 2, 48, 50, 2, 59, 43, 57, 1, 1, 58, 1, 29, 77, 45, 95, 2, 75, 6, 75, 8, 71, 5, 88, 7, 43, 10, 22, 5, 47, 40, 89, 12, 36, 36, 63, 22, 62, 17, 61, 20, 68, 16, 69, 1, 60, 1, 73, 35, 83, 5, 93, 26, 75, 20, 95, 27, 63, 13, 75, 10, 92, 13, 86, 15, 69, 14, 90, 32, 86, 15, 88, 39, 97, 24, 68, 17, 85, 23, 69, 8, 91, 16, 79, 28, 74, 18, 83], \"z\": [20.0, 34.0, 12.35, 12.0, 18.0, 12.0, 20.0, 18.0, 19.0, 18.5, 12.35, 12.0, 20.0, 20.0, 20.0, 19.85, 19.5, 14.0, 13.0, 11.0, 10.5, 10.0, 25.0, 12.0, 20.0, 28.0, 30.0, 29.0, 23.0, 23.45, 24.0, 24.5, 26.0, 33.0, 32.0, 32.0, 32.0, 32.5, 43.0, 10.98, 10.5, 23.45, 23.56, 23.0, 43.0, 43.0, 50.0, 50.0, 50.0, 56.0, 24.38, 29.0, 29.0, 30.0, 32.0, 32.0, 33.0, 34.6, 45.6, 45.0, 60.0, 54.0, 55.0, 80.0, 12.9, 39.0, 38.9, 40.5, 30.0, 23.0, 10.0, 90.0, 20.0, 23.0, 80.0, 60.0, 65.0, 65.0, 53.0, 68.95, 69.0, 69.5, 70.0, 23.0, 23.7, 45.0, 46.0, 46.5, 89.0, 20.0, 29.0, 47.0, 33.0, 90.0, 49.65, 49.5, 38.94, 45.0, 10.0, 61.0, 62.0, 62.0, 62.0, 62.0, 65.0, 61.0, 63.0, 89.0, 45.0, 40.0, 30.0, 35.0, 45.0, 65.0, 60.0, 50.0, 55.0, 23.0, 29.0, 29.5, 34.0, 34.5, 45.0, 45.5, 56.0, 55.0, 60.0, 65.0, 65.5, 67.0, 68.0, 68.0, 72.0, 71.0, 78.0, 71.0, 70.0, 20.0, 90.0, 56.0, 57.0, 57.0, 58.0, 78.0, 47.8, 47.5, 46.0, 46.5, 50.0, 55.0, 55.6, 50.0, 90.0, 12.0, 12.5, 24.0, 24.3, 24.56, 24.5, 89.0, 79.0, 71.0, 62.0, 66.0, 67.0, 67.6, 80.0, 90.0, 12.9, 46.0, 45.0, 45.5, 45.0, 45.0, 45.0, 45.0, 44.0, 44.5, 44.6, 44.7, 44.8, 44.9, 50.0, 55.0, 55.2, 55.0, 53.0, 53.5, 33.0, 34.0, 34.5, 34.5, 34.5, 56.0, 56.75, 67.5, 76.0, 89.0, 90.0, 90.0]}],\n",
              "                        {\"scene\": {\"xaxis\": {\"title\": {\"text\": \"Age\"}}, \"yaxis\": {\"title\": {\"text\": \"Spending Score\"}}, \"zaxis\": {\"title\": {\"text\": \"Annual Income\"}}}, \"template\": {\"data\": {\"bar\": [{\"error_x\": {\"color\": \"#2a3f5f\"}, \"error_y\": {\"color\": \"#2a3f5f\"}, \"marker\": {\"line\": {\"color\": \"#E5ECF6\", \"width\": 0.5}}, \"type\": \"bar\"}], \"barpolar\": [{\"marker\": {\"line\": {\"color\": \"#E5ECF6\", \"width\": 0.5}}, \"type\": \"barpolar\"}], \"carpet\": [{\"aaxis\": {\"endlinecolor\": \"#2a3f5f\", \"gridcolor\": \"white\", \"linecolor\": \"white\", \"minorgridcolor\": \"white\", \"startlinecolor\": \"#2a3f5f\"}, \"baxis\": {\"endlinecolor\": \"#2a3f5f\", \"gridcolor\": \"white\", \"linecolor\": \"white\", \"minorgridcolor\": \"white\", \"startlinecolor\": \"#2a3f5f\"}, \"type\": \"carpet\"}], \"choropleth\": [{\"colorbar\": {\"outlinewidth\": 0, \"ticks\": \"\"}, \"type\": \"choropleth\"}], \"contour\": [{\"colorbar\": {\"outlinewidth\": 0, \"ticks\": \"\"}, \"colorscale\": [[0.0, \"#0d0887\"], [0.1111111111111111, \"#46039f\"], [0.2222222222222222, \"#7201a8\"], [0.3333333333333333, \"#9c179e\"], [0.4444444444444444, \"#bd3786\"], [0.5555555555555556, \"#d8576b\"], [0.6666666666666666, \"#ed7953\"], [0.7777777777777778, \"#fb9f3a\"], [0.8888888888888888, \"#fdca26\"], [1.0, \"#f0f921\"]], \"type\": \"contour\"}], \"contourcarpet\": [{\"colorbar\": {\"outlinewidth\": 0, \"ticks\": \"\"}, \"type\": \"contourcarpet\"}], \"heatmap\": [{\"colorbar\": {\"outlinewidth\": 0, \"ticks\": \"\"}, \"colorscale\": [[0.0, \"#0d0887\"], [0.1111111111111111, \"#46039f\"], [0.2222222222222222, \"#7201a8\"], [0.3333333333333333, \"#9c179e\"], [0.4444444444444444, \"#bd3786\"], [0.5555555555555556, \"#d8576b\"], [0.6666666666666666, \"#ed7953\"], [0.7777777777777778, \"#fb9f3a\"], [0.8888888888888888, \"#fdca26\"], [1.0, \"#f0f921\"]], \"type\": \"heatmap\"}], \"heatmapgl\": [{\"colorbar\": {\"outlinewidth\": 0, \"ticks\": \"\"}, \"colorscale\": [[0.0, \"#0d0887\"], [0.1111111111111111, \"#46039f\"], [0.2222222222222222, \"#7201a8\"], [0.3333333333333333, \"#9c179e\"], [0.4444444444444444, \"#bd3786\"], [0.5555555555555556, \"#d8576b\"], [0.6666666666666666, \"#ed7953\"], [0.7777777777777778, \"#fb9f3a\"], [0.8888888888888888, \"#fdca26\"], [1.0, \"#f0f921\"]], \"type\": \"heatmapgl\"}], \"histogram\": [{\"marker\": {\"colorbar\": {\"outlinewidth\": 0, \"ticks\": \"\"}}, \"type\": \"histogram\"}], \"histogram2d\": [{\"colorbar\": {\"outlinewidth\": 0, \"ticks\": \"\"}, \"colorscale\": [[0.0, \"#0d0887\"], [0.1111111111111111, \"#46039f\"], [0.2222222222222222, \"#7201a8\"], [0.3333333333333333, \"#9c179e\"], [0.4444444444444444, \"#bd3786\"], [0.5555555555555556, \"#d8576b\"], [0.6666666666666666, \"#ed7953\"], [0.7777777777777778, \"#fb9f3a\"], [0.8888888888888888, \"#fdca26\"], [1.0, \"#f0f921\"]], \"type\": \"histogram2d\"}], \"histogram2dcontour\": [{\"colorbar\": {\"outlinewidth\": 0, \"ticks\": \"\"}, \"colorscale\": [[0.0, \"#0d0887\"], [0.1111111111111111, \"#46039f\"], [0.2222222222222222, \"#7201a8\"], [0.3333333333333333, \"#9c179e\"], [0.4444444444444444, \"#bd3786\"], [0.5555555555555556, \"#d8576b\"], [0.6666666666666666, \"#ed7953\"], [0.7777777777777778, \"#fb9f3a\"], [0.8888888888888888, \"#fdca26\"], [1.0, \"#f0f921\"]], \"type\": \"histogram2dcontour\"}], \"mesh3d\": [{\"colorbar\": {\"outlinewidth\": 0, \"ticks\": \"\"}, \"type\": \"mesh3d\"}], \"parcoords\": [{\"line\": {\"colorbar\": {\"outlinewidth\": 0, \"ticks\": \"\"}}, \"type\": \"parcoords\"}], \"pie\": [{\"automargin\": true, \"type\": \"pie\"}], \"scatter\": [{\"marker\": {\"colorbar\": {\"outlinewidth\": 0, \"ticks\": \"\"}}, \"type\": \"scatter\"}], \"scatter3d\": [{\"line\": {\"colorbar\": {\"outlinewidth\": 0, \"ticks\": \"\"}}, \"marker\": {\"colorbar\": {\"outlinewidth\": 0, \"ticks\": \"\"}}, \"type\": \"scatter3d\"}], \"scattercarpet\": [{\"marker\": {\"colorbar\": {\"outlinewidth\": 0, \"ticks\": \"\"}}, \"type\": \"scattercarpet\"}], \"scattergeo\": [{\"marker\": {\"colorbar\": {\"outlinewidth\": 0, \"ticks\": \"\"}}, \"type\": \"scattergeo\"}], \"scattergl\": [{\"marker\": {\"colorbar\": {\"outlinewidth\": 0, \"ticks\": \"\"}}, \"type\": \"scattergl\"}], \"scattermapbox\": [{\"marker\": {\"colorbar\": {\"outlinewidth\": 0, \"ticks\": \"\"}}, \"type\": \"scattermapbox\"}], \"scatterpolar\": [{\"marker\": {\"colorbar\": {\"outlinewidth\": 0, \"ticks\": \"\"}}, \"type\": \"scatterpolar\"}], \"scatterpolargl\": [{\"marker\": {\"colorbar\": {\"outlinewidth\": 0, \"ticks\": \"\"}}, \"type\": \"scatterpolargl\"}], \"scatterternary\": [{\"marker\": {\"colorbar\": {\"outlinewidth\": 0, \"ticks\": \"\"}}, \"type\": \"scatterternary\"}], \"surface\": [{\"colorbar\": {\"outlinewidth\": 0, \"ticks\": \"\"}, \"colorscale\": [[0.0, \"#0d0887\"], [0.1111111111111111, \"#46039f\"], [0.2222222222222222, \"#7201a8\"], [0.3333333333333333, \"#9c179e\"], [0.4444444444444444, \"#bd3786\"], [0.5555555555555556, \"#d8576b\"], [0.6666666666666666, \"#ed7953\"], [0.7777777777777778, \"#fb9f3a\"], [0.8888888888888888, \"#fdca26\"], [1.0, \"#f0f921\"]], \"type\": \"surface\"}], \"table\": [{\"cells\": {\"fill\": {\"color\": \"#EBF0F8\"}, \"line\": {\"color\": \"white\"}}, \"header\": {\"fill\": {\"color\": \"#C8D4E3\"}, \"line\": {\"color\": \"white\"}}, \"type\": \"table\"}]}, \"layout\": {\"annotationdefaults\": {\"arrowcolor\": \"#2a3f5f\", \"arrowhead\": 0, \"arrowwidth\": 1}, \"coloraxis\": {\"colorbar\": {\"outlinewidth\": 0, \"ticks\": \"\"}}, \"colorscale\": {\"diverging\": [[0, \"#8e0152\"], [0.1, \"#c51b7d\"], [0.2, \"#de77ae\"], [0.3, \"#f1b6da\"], [0.4, \"#fde0ef\"], [0.5, \"#f7f7f7\"], [0.6, \"#e6f5d0\"], [0.7, \"#b8e186\"], [0.8, \"#7fbc41\"], [0.9, \"#4d9221\"], [1, \"#276419\"]], \"sequential\": [[0.0, \"#0d0887\"], [0.1111111111111111, \"#46039f\"], [0.2222222222222222, \"#7201a8\"], [0.3333333333333333, \"#9c179e\"], [0.4444444444444444, \"#bd3786\"], [0.5555555555555556, \"#d8576b\"], [0.6666666666666666, \"#ed7953\"], [0.7777777777777778, \"#fb9f3a\"], [0.8888888888888888, \"#fdca26\"], [1.0, \"#f0f921\"]], \"sequentialminus\": [[0.0, \"#0d0887\"], [0.1111111111111111, \"#46039f\"], [0.2222222222222222, \"#7201a8\"], [0.3333333333333333, \"#9c179e\"], [0.4444444444444444, \"#bd3786\"], [0.5555555555555556, \"#d8576b\"], [0.6666666666666666, \"#ed7953\"], [0.7777777777777778, \"#fb9f3a\"], [0.8888888888888888, \"#fdca26\"], [1.0, \"#f0f921\"]]}, \"colorway\": [\"#636efa\", \"#EF553B\", \"#00cc96\", \"#ab63fa\", \"#FFA15A\", \"#19d3f3\", \"#FF6692\", \"#B6E880\", \"#FF97FF\", \"#FECB52\"], \"font\": {\"color\": \"#2a3f5f\"}, \"geo\": {\"bgcolor\": \"white\", \"lakecolor\": \"white\", \"landcolor\": \"#E5ECF6\", \"showlakes\": true, \"showland\": true, \"subunitcolor\": \"white\"}, \"hoverlabel\": {\"align\": \"left\"}, \"hovermode\": \"closest\", \"mapbox\": {\"style\": \"light\"}, \"paper_bgcolor\": \"white\", \"plot_bgcolor\": \"#E5ECF6\", \"polar\": {\"angularaxis\": {\"gridcolor\": \"white\", \"linecolor\": \"white\", \"ticks\": \"\"}, \"bgcolor\": \"#E5ECF6\", \"radialaxis\": {\"gridcolor\": \"white\", \"linecolor\": \"white\", \"ticks\": \"\"}}, \"scene\": {\"xaxis\": {\"backgroundcolor\": \"#E5ECF6\", \"gridcolor\": \"white\", \"gridwidth\": 2, \"linecolor\": \"white\", \"showbackground\": true, \"ticks\": \"\", \"zerolinecolor\": \"white\"}, \"yaxis\": {\"backgroundcolor\": \"#E5ECF6\", \"gridcolor\": \"white\", \"gridwidth\": 2, \"linecolor\": \"white\", \"showbackground\": true, \"ticks\": \"\", \"zerolinecolor\": \"white\"}, \"zaxis\": {\"backgroundcolor\": \"#E5ECF6\", \"gridcolor\": \"white\", \"gridwidth\": 2, \"linecolor\": \"white\", \"showbackground\": true, \"ticks\": \"\", \"zerolinecolor\": \"white\"}}, \"shapedefaults\": {\"line\": {\"color\": \"#2a3f5f\"}}, \"ternary\": {\"aaxis\": {\"gridcolor\": \"white\", \"linecolor\": \"white\", \"ticks\": \"\"}, \"baxis\": {\"gridcolor\": \"white\", \"linecolor\": \"white\", \"ticks\": \"\"}, \"bgcolor\": \"#E5ECF6\", \"caxis\": {\"gridcolor\": \"white\", \"linecolor\": \"white\", \"ticks\": \"\"}}, \"title\": {\"x\": 0.05}, \"xaxis\": {\"automargin\": true, \"gridcolor\": \"white\", \"linecolor\": \"white\", \"ticks\": \"\", \"title\": {\"standoff\": 15}, \"zerolinecolor\": \"white\", \"zerolinewidth\": 2}, \"yaxis\": {\"automargin\": true, \"gridcolor\": \"white\", \"linecolor\": \"white\", \"ticks\": \"\", \"title\": {\"standoff\": 15}, \"zerolinecolor\": \"white\", \"zerolinewidth\": 2}}}, \"title\": {\"text\": \"Clusters\"}},\n",
              "                        {\"responsive\": true}\n",
              "                    ).then(function(){\n",
              "                            \n",
              "var gd = document.getElementById('ee293d9e-32b3-4223-9888-c129764efca6');\n",
              "var x = new MutationObserver(function (mutations, observer) {{\n",
              "        var display = window.getComputedStyle(gd).display;\n",
              "        if (!display || display === 'none') {{\n",
              "            console.log([gd, 'removed!']);\n",
              "            Plotly.purge(gd);\n",
              "            observer.disconnect();\n",
              "        }}\n",
              "}});\n",
              "\n",
              "// Listen for the removal of the full notebook cells\n",
              "var notebookContainer = gd.closest('#notebook-container');\n",
              "if (notebookContainer) {{\n",
              "    x.observe(notebookContainer, {childList: true});\n",
              "}}\n",
              "\n",
              "// Listen for the clearing of the current output cell\n",
              "var outputEl = gd.closest('.output');\n",
              "if (outputEl) {{\n",
              "    x.observe(outputEl, {childList: true});\n",
              "}}\n",
              "\n",
              "                        })\n",
              "                };\n",
              "                \n",
              "            </script>\n",
              "        </div>\n",
              "</body>\n",
              "</html>"
            ]
          },
          "metadata": {
            "tags": []
          }
        }
      ]
    },
    {
      "cell_type": "code",
      "metadata": {
        "id": "IYwhN5kZQ7JH",
        "colab_type": "code",
        "colab": {
          "base_uri": "https://localhost:8080/",
          "height": 235
        },
        "outputId": "5dfa7e37-d911-468a-8fad-01ee8db79738"
      },
      "source": [
        "data.head()"
      ],
      "execution_count": 100,
      "outputs": [
        {
          "output_type": "execute_result",
          "data": {
            "text/html": [
              "<div>\n",
              "<style scoped>\n",
              "    .dataframe tbody tr th:only-of-type {\n",
              "        vertical-align: middle;\n",
              "    }\n",
              "\n",
              "    .dataframe tbody tr th {\n",
              "        vertical-align: top;\n",
              "    }\n",
              "\n",
              "    .dataframe thead th {\n",
              "        text-align: right;\n",
              "    }\n",
              "</style>\n",
              "<table border=\"1\" class=\"dataframe\">\n",
              "  <thead>\n",
              "    <tr style=\"text-align: right;\">\n",
              "      <th></th>\n",
              "      <th>Gender</th>\n",
              "      <th>Age</th>\n",
              "      <th>Annual_Income</th>\n",
              "      <th>Spending_Score</th>\n",
              "      <th>Hometown</th>\n",
              "      <th>FavoriteTime</th>\n",
              "      <th>Cluster</th>\n",
              "    </tr>\n",
              "    <tr>\n",
              "      <th>CustID</th>\n",
              "      <th></th>\n",
              "      <th></th>\n",
              "      <th></th>\n",
              "      <th></th>\n",
              "      <th></th>\n",
              "      <th></th>\n",
              "      <th></th>\n",
              "    </tr>\n",
              "  </thead>\n",
              "  <tbody>\n",
              "    <tr>\n",
              "      <th>1</th>\n",
              "      <td>0</td>\n",
              "      <td>20</td>\n",
              "      <td>20.00</td>\n",
              "      <td>1</td>\n",
              "      <td>1</td>\n",
              "      <td>0</td>\n",
              "      <td>3</td>\n",
              "    </tr>\n",
              "    <tr>\n",
              "      <th>2</th>\n",
              "      <td>1</td>\n",
              "      <td>21</td>\n",
              "      <td>34.00</td>\n",
              "      <td>81</td>\n",
              "      <td>1</td>\n",
              "      <td>0</td>\n",
              "      <td>2</td>\n",
              "    </tr>\n",
              "    <tr>\n",
              "      <th>3</th>\n",
              "      <td>0</td>\n",
              "      <td>18</td>\n",
              "      <td>12.35</td>\n",
              "      <td>1</td>\n",
              "      <td>1</td>\n",
              "      <td>0</td>\n",
              "      <td>3</td>\n",
              "    </tr>\n",
              "    <tr>\n",
              "      <th>4</th>\n",
              "      <td>1</td>\n",
              "      <td>45</td>\n",
              "      <td>12.00</td>\n",
              "      <td>1</td>\n",
              "      <td>2</td>\n",
              "      <td>1</td>\n",
              "      <td>3</td>\n",
              "    </tr>\n",
              "    <tr>\n",
              "      <th>5</th>\n",
              "      <td>1</td>\n",
              "      <td>31</td>\n",
              "      <td>18.00</td>\n",
              "      <td>10</td>\n",
              "      <td>2</td>\n",
              "      <td>0</td>\n",
              "      <td>3</td>\n",
              "    </tr>\n",
              "  </tbody>\n",
              "</table>\n",
              "</div>"
            ],
            "text/plain": [
              "        Gender  Age  Annual_Income  ...  Hometown  FavoriteTime  Cluster\n",
              "CustID                              ...                                 \n",
              "1            0   20          20.00  ...         1             0        3\n",
              "2            1   21          34.00  ...         1             0        2\n",
              "3            0   18          12.35  ...         1             0        3\n",
              "4            1   45          12.00  ...         2             1        3\n",
              "5            1   31          18.00  ...         2             0        3\n",
              "\n",
              "[5 rows x 7 columns]"
            ]
          },
          "metadata": {
            "tags": []
          },
          "execution_count": 100
        }
      ]
    },
    {
      "cell_type": "code",
      "metadata": {
        "id": "zTnE0lyfok9R",
        "colab_type": "code",
        "colab": {
          "base_uri": "https://localhost:8080/",
          "height": 297
        },
        "outputId": "9b5f69ce-8ae1-4a84-ee34-b926e056094b"
      },
      "source": [
        "data.describe()"
      ],
      "execution_count": 101,
      "outputs": [
        {
          "output_type": "execute_result",
          "data": {
            "text/html": [
              "<div>\n",
              "<style scoped>\n",
              "    .dataframe tbody tr th:only-of-type {\n",
              "        vertical-align: middle;\n",
              "    }\n",
              "\n",
              "    .dataframe tbody tr th {\n",
              "        vertical-align: top;\n",
              "    }\n",
              "\n",
              "    .dataframe thead th {\n",
              "        text-align: right;\n",
              "    }\n",
              "</style>\n",
              "<table border=\"1\" class=\"dataframe\">\n",
              "  <thead>\n",
              "    <tr style=\"text-align: right;\">\n",
              "      <th></th>\n",
              "      <th>Gender</th>\n",
              "      <th>Age</th>\n",
              "      <th>Annual_Income</th>\n",
              "      <th>Spending_Score</th>\n",
              "      <th>Hometown</th>\n",
              "      <th>FavoriteTime</th>\n",
              "      <th>Cluster</th>\n",
              "    </tr>\n",
              "  </thead>\n",
              "  <tbody>\n",
              "    <tr>\n",
              "      <th>count</th>\n",
              "      <td>200.00000</td>\n",
              "      <td>200.000000</td>\n",
              "      <td>200.000000</td>\n",
              "      <td>200.000000</td>\n",
              "      <td>200.000000</td>\n",
              "      <td>200.000000</td>\n",
              "      <td>200.000000</td>\n",
              "    </tr>\n",
              "    <tr>\n",
              "      <th>mean</th>\n",
              "      <td>0.45500</td>\n",
              "      <td>39.415000</td>\n",
              "      <td>44.234100</td>\n",
              "      <td>46.915000</td>\n",
              "      <td>1.505000</td>\n",
              "      <td>0.245000</td>\n",
              "      <td>2.820000</td>\n",
              "    </tr>\n",
              "    <tr>\n",
              "      <th>std</th>\n",
              "      <td>0.49922</td>\n",
              "      <td>13.956241</td>\n",
              "      <td>21.477387</td>\n",
              "      <td>28.979941</td>\n",
              "      <td>1.027254</td>\n",
              "      <td>0.431166</td>\n",
              "      <td>1.898849</td>\n",
              "    </tr>\n",
              "    <tr>\n",
              "      <th>min</th>\n",
              "      <td>0.00000</td>\n",
              "      <td>18.000000</td>\n",
              "      <td>10.000000</td>\n",
              "      <td>1.000000</td>\n",
              "      <td>1.000000</td>\n",
              "      <td>0.000000</td>\n",
              "      <td>0.000000</td>\n",
              "    </tr>\n",
              "    <tr>\n",
              "      <th>25%</th>\n",
              "      <td>0.00000</td>\n",
              "      <td>30.000000</td>\n",
              "      <td>24.545000</td>\n",
              "      <td>22.000000</td>\n",
              "      <td>1.000000</td>\n",
              "      <td>0.000000</td>\n",
              "      <td>1.000000</td>\n",
              "    </tr>\n",
              "    <tr>\n",
              "      <th>50%</th>\n",
              "      <td>0.00000</td>\n",
              "      <td>36.000000</td>\n",
              "      <td>45.000000</td>\n",
              "      <td>46.000000</td>\n",
              "      <td>1.000000</td>\n",
              "      <td>0.000000</td>\n",
              "      <td>3.000000</td>\n",
              "    </tr>\n",
              "    <tr>\n",
              "      <th>75%</th>\n",
              "      <td>1.00000</td>\n",
              "      <td>49.000000</td>\n",
              "      <td>60.000000</td>\n",
              "      <td>69.000000</td>\n",
              "      <td>2.000000</td>\n",
              "      <td>0.000000</td>\n",
              "      <td>5.000000</td>\n",
              "    </tr>\n",
              "    <tr>\n",
              "      <th>max</th>\n",
              "      <td>1.00000</td>\n",
              "      <td>75.000000</td>\n",
              "      <td>90.000000</td>\n",
              "      <td>100.000000</td>\n",
              "      <td>7.000000</td>\n",
              "      <td>1.000000</td>\n",
              "      <td>6.000000</td>\n",
              "    </tr>\n",
              "  </tbody>\n",
              "</table>\n",
              "</div>"
            ],
            "text/plain": [
              "          Gender         Age  ...  FavoriteTime     Cluster\n",
              "count  200.00000  200.000000  ...    200.000000  200.000000\n",
              "mean     0.45500   39.415000  ...      0.245000    2.820000\n",
              "std      0.49922   13.956241  ...      0.431166    1.898849\n",
              "min      0.00000   18.000000  ...      0.000000    0.000000\n",
              "25%      0.00000   30.000000  ...      0.000000    1.000000\n",
              "50%      0.00000   36.000000  ...      0.000000    3.000000\n",
              "75%      1.00000   49.000000  ...      0.000000    5.000000\n",
              "max      1.00000   75.000000  ...      1.000000    6.000000\n",
              "\n",
              "[8 rows x 7 columns]"
            ]
          },
          "metadata": {
            "tags": []
          },
          "execution_count": 101
        }
      ]
    },
    {
      "cell_type": "code",
      "metadata": {
        "id": "YD0GpBZHoxX0",
        "colab_type": "code",
        "colab": {
          "base_uri": "https://localhost:8080/",
          "height": 297
        },
        "outputId": "e38a1048-54ec-4f6f-8911-83e1ba27c7dd"
      },
      "source": [
        "data[data['Cluster']==0].describe()"
      ],
      "execution_count": 102,
      "outputs": [
        {
          "output_type": "execute_result",
          "data": {
            "text/html": [
              "<div>\n",
              "<style scoped>\n",
              "    .dataframe tbody tr th:only-of-type {\n",
              "        vertical-align: middle;\n",
              "    }\n",
              "\n",
              "    .dataframe tbody tr th {\n",
              "        vertical-align: top;\n",
              "    }\n",
              "\n",
              "    .dataframe thead th {\n",
              "        text-align: right;\n",
              "    }\n",
              "</style>\n",
              "<table border=\"1\" class=\"dataframe\">\n",
              "  <thead>\n",
              "    <tr style=\"text-align: right;\">\n",
              "      <th></th>\n",
              "      <th>Gender</th>\n",
              "      <th>Age</th>\n",
              "      <th>Annual_Income</th>\n",
              "      <th>Spending_Score</th>\n",
              "      <th>Hometown</th>\n",
              "      <th>FavoriteTime</th>\n",
              "      <th>Cluster</th>\n",
              "    </tr>\n",
              "  </thead>\n",
              "  <tbody>\n",
              "    <tr>\n",
              "      <th>count</th>\n",
              "      <td>25.000000</td>\n",
              "      <td>25.000000</td>\n",
              "      <td>25.000000</td>\n",
              "      <td>25.000000</td>\n",
              "      <td>25.000000</td>\n",
              "      <td>25.000000</td>\n",
              "      <td>25.0</td>\n",
              "    </tr>\n",
              "    <tr>\n",
              "      <th>mean</th>\n",
              "      <td>0.360000</td>\n",
              "      <td>50.360000</td>\n",
              "      <td>25.301600</td>\n",
              "      <td>50.360000</td>\n",
              "      <td>1.800000</td>\n",
              "      <td>0.280000</td>\n",
              "      <td>0.0</td>\n",
              "    </tr>\n",
              "    <tr>\n",
              "      <th>std</th>\n",
              "      <td>0.489898</td>\n",
              "      <td>13.143059</td>\n",
              "      <td>9.257004</td>\n",
              "      <td>9.560683</td>\n",
              "      <td>1.190238</td>\n",
              "      <td>0.458258</td>\n",
              "      <td>0.0</td>\n",
              "    </tr>\n",
              "    <tr>\n",
              "      <th>min</th>\n",
              "      <td>0.000000</td>\n",
              "      <td>30.000000</td>\n",
              "      <td>10.000000</td>\n",
              "      <td>33.000000</td>\n",
              "      <td>1.000000</td>\n",
              "      <td>0.000000</td>\n",
              "      <td>0.0</td>\n",
              "    </tr>\n",
              "    <tr>\n",
              "      <th>25%</th>\n",
              "      <td>0.000000</td>\n",
              "      <td>43.000000</td>\n",
              "      <td>20.000000</td>\n",
              "      <td>43.000000</td>\n",
              "      <td>1.000000</td>\n",
              "      <td>0.000000</td>\n",
              "      <td>0.0</td>\n",
              "    </tr>\n",
              "    <tr>\n",
              "      <th>50%</th>\n",
              "      <td>0.000000</td>\n",
              "      <td>50.000000</td>\n",
              "      <td>23.560000</td>\n",
              "      <td>48.000000</td>\n",
              "      <td>1.000000</td>\n",
              "      <td>0.000000</td>\n",
              "      <td>0.0</td>\n",
              "    </tr>\n",
              "    <tr>\n",
              "      <th>75%</th>\n",
              "      <td>1.000000</td>\n",
              "      <td>60.000000</td>\n",
              "      <td>30.000000</td>\n",
              "      <td>59.000000</td>\n",
              "      <td>2.000000</td>\n",
              "      <td>1.000000</td>\n",
              "      <td>0.0</td>\n",
              "    </tr>\n",
              "    <tr>\n",
              "      <th>max</th>\n",
              "      <td>1.000000</td>\n",
              "      <td>75.000000</td>\n",
              "      <td>45.000000</td>\n",
              "      <td>68.000000</td>\n",
              "      <td>4.000000</td>\n",
              "      <td>1.000000</td>\n",
              "      <td>0.0</td>\n",
              "    </tr>\n",
              "  </tbody>\n",
              "</table>\n",
              "</div>"
            ],
            "text/plain": [
              "          Gender        Age  Annual_Income  ...   Hometown  FavoriteTime  Cluster\n",
              "count  25.000000  25.000000      25.000000  ...  25.000000     25.000000     25.0\n",
              "mean    0.360000  50.360000      25.301600  ...   1.800000      0.280000      0.0\n",
              "std     0.489898  13.143059       9.257004  ...   1.190238      0.458258      0.0\n",
              "min     0.000000  30.000000      10.000000  ...   1.000000      0.000000      0.0\n",
              "25%     0.000000  43.000000      20.000000  ...   1.000000      0.000000      0.0\n",
              "50%     0.000000  50.000000      23.560000  ...   1.000000      0.000000      0.0\n",
              "75%     1.000000  60.000000      30.000000  ...   2.000000      1.000000      0.0\n",
              "max     1.000000  75.000000      45.000000  ...   4.000000      1.000000      0.0\n",
              "\n",
              "[8 rows x 7 columns]"
            ]
          },
          "metadata": {
            "tags": []
          },
          "execution_count": 102
        }
      ]
    },
    {
      "cell_type": "markdown",
      "metadata": {
        "id": "X-J3wwErpaXK",
        "colab_type": "text"
      },
      "source": [
        "**Cluster 0 Analysis:**\n",
        "\n",
        "*   Pelanggan berusia antara 11 sampai 70 dengan rata-rata usia 52 tahun \n",
        "*   Range Annual Income 12k-90k with avg spending score 50\n",
        "*   Favorite Time Weekend\n",
        "\n",
        "\n",
        "\n",
        "\n",
        "\n",
        "\n",
        "\n",
        "\n",
        "\n",
        "\n",
        "\n"
      ]
    },
    {
      "cell_type": "code",
      "metadata": {
        "id": "LKOlWAISrb2S",
        "colab_type": "code",
        "colab": {
          "base_uri": "https://localhost:8080/",
          "height": 297
        },
        "outputId": "32d9fdc7-f907-4ef6-d0c7-d32e2ea25bd9"
      },
      "source": [
        "data[data['Cluster']==1].describe()"
      ],
      "execution_count": 103,
      "outputs": [
        {
          "output_type": "execute_result",
          "data": {
            "text/html": [
              "<div>\n",
              "<style scoped>\n",
              "    .dataframe tbody tr th:only-of-type {\n",
              "        vertical-align: middle;\n",
              "    }\n",
              "\n",
              "    .dataframe tbody tr th {\n",
              "        vertical-align: top;\n",
              "    }\n",
              "\n",
              "    .dataframe thead th {\n",
              "        text-align: right;\n",
              "    }\n",
              "</style>\n",
              "<table border=\"1\" class=\"dataframe\">\n",
              "  <thead>\n",
              "    <tr style=\"text-align: right;\">\n",
              "      <th></th>\n",
              "      <th>Gender</th>\n",
              "      <th>Age</th>\n",
              "      <th>Annual_Income</th>\n",
              "      <th>Spending_Score</th>\n",
              "      <th>Hometown</th>\n",
              "      <th>FavoriteTime</th>\n",
              "      <th>Cluster</th>\n",
              "    </tr>\n",
              "  </thead>\n",
              "  <tbody>\n",
              "    <tr>\n",
              "      <th>count</th>\n",
              "      <td>36.000000</td>\n",
              "      <td>36.000000</td>\n",
              "      <td>36.000000</td>\n",
              "      <td>36.000000</td>\n",
              "      <td>36.000000</td>\n",
              "      <td>36.000000</td>\n",
              "      <td>36.0</td>\n",
              "    </tr>\n",
              "    <tr>\n",
              "      <th>mean</th>\n",
              "      <td>0.416667</td>\n",
              "      <td>28.277778</td>\n",
              "      <td>49.662500</td>\n",
              "      <td>49.555556</td>\n",
              "      <td>1.166667</td>\n",
              "      <td>0.083333</td>\n",
              "      <td>1.0</td>\n",
              "    </tr>\n",
              "    <tr>\n",
              "      <th>std</th>\n",
              "      <td>0.500000</td>\n",
              "      <td>8.052013</td>\n",
              "      <td>8.820499</td>\n",
              "      <td>10.210483</td>\n",
              "      <td>0.447214</td>\n",
              "      <td>0.280306</td>\n",
              "      <td>0.0</td>\n",
              "    </tr>\n",
              "    <tr>\n",
              "      <th>min</th>\n",
              "      <td>0.000000</td>\n",
              "      <td>18.000000</td>\n",
              "      <td>23.700000</td>\n",
              "      <td>29.000000</td>\n",
              "      <td>1.000000</td>\n",
              "      <td>0.000000</td>\n",
              "      <td>1.0</td>\n",
              "    </tr>\n",
              "    <tr>\n",
              "      <th>25%</th>\n",
              "      <td>0.000000</td>\n",
              "      <td>22.500000</td>\n",
              "      <td>45.750000</td>\n",
              "      <td>42.000000</td>\n",
              "      <td>1.000000</td>\n",
              "      <td>0.000000</td>\n",
              "      <td>1.0</td>\n",
              "    </tr>\n",
              "    <tr>\n",
              "      <th>50%</th>\n",
              "      <td>0.000000</td>\n",
              "      <td>27.500000</td>\n",
              "      <td>50.000000</td>\n",
              "      <td>49.000000</td>\n",
              "      <td>1.000000</td>\n",
              "      <td>0.000000</td>\n",
              "      <td>1.0</td>\n",
              "    </tr>\n",
              "    <tr>\n",
              "      <th>75%</th>\n",
              "      <td>1.000000</td>\n",
              "      <td>32.000000</td>\n",
              "      <td>56.000000</td>\n",
              "      <td>57.000000</td>\n",
              "      <td>1.000000</td>\n",
              "      <td>0.000000</td>\n",
              "      <td>1.0</td>\n",
              "    </tr>\n",
              "    <tr>\n",
              "      <th>max</th>\n",
              "      <td>1.000000</td>\n",
              "      <td>48.000000</td>\n",
              "      <td>62.000000</td>\n",
              "      <td>69.000000</td>\n",
              "      <td>3.000000</td>\n",
              "      <td>1.000000</td>\n",
              "      <td>1.0</td>\n",
              "    </tr>\n",
              "  </tbody>\n",
              "</table>\n",
              "</div>"
            ],
            "text/plain": [
              "          Gender        Age  Annual_Income  ...   Hometown  FavoriteTime  Cluster\n",
              "count  36.000000  36.000000      36.000000  ...  36.000000     36.000000     36.0\n",
              "mean    0.416667  28.277778      49.662500  ...   1.166667      0.083333      1.0\n",
              "std     0.500000   8.052013       8.820499  ...   0.447214      0.280306      0.0\n",
              "min     0.000000  18.000000      23.700000  ...   1.000000      0.000000      1.0\n",
              "25%     0.000000  22.500000      45.750000  ...   1.000000      0.000000      1.0\n",
              "50%     0.000000  27.500000      50.000000  ...   1.000000      0.000000      1.0\n",
              "75%     1.000000  32.000000      56.000000  ...   1.000000      0.000000      1.0\n",
              "max     1.000000  48.000000      62.000000  ...   3.000000      1.000000      1.0\n",
              "\n",
              "[8 rows x 7 columns]"
            ]
          },
          "metadata": {
            "tags": []
          },
          "execution_count": 103
        }
      ]
    },
    {
      "cell_type": "markdown",
      "metadata": {
        "id": "vKzeIuMxsoeK",
        "colab_type": "text"
      },
      "source": [
        "**Cluster 1 Analysis:**\n",
        "\n",
        "*   Pelanggan pada cluster 1 ini dari usia 12 sampai 75 tahun dnegan rata-rata 48 tahun\n",
        "*   Range Annnual Income 9k-46k with avg spending score 45k\n",
        "*   Favorite Time Weekend\n"
      ]
    },
    {
      "cell_type": "code",
      "metadata": {
        "id": "X-hodb5cuvMR",
        "colab_type": "code",
        "colab": {
          "base_uri": "https://localhost:8080/",
          "height": 297
        },
        "outputId": "bd589f76-d4ee-4f8e-ba32-0ba762d8a4e1"
      },
      "source": [
        "data[data['Cluster']==2].describe()"
      ],
      "execution_count": 104,
      "outputs": [
        {
          "output_type": "execute_result",
          "data": {
            "text/html": [
              "<div>\n",
              "<style scoped>\n",
              "    .dataframe tbody tr th:only-of-type {\n",
              "        vertical-align: middle;\n",
              "    }\n",
              "\n",
              "    .dataframe tbody tr th {\n",
              "        vertical-align: top;\n",
              "    }\n",
              "\n",
              "    .dataframe thead th {\n",
              "        text-align: right;\n",
              "    }\n",
              "</style>\n",
              "<table border=\"1\" class=\"dataframe\">\n",
              "  <thead>\n",
              "    <tr style=\"text-align: right;\">\n",
              "      <th></th>\n",
              "      <th>Gender</th>\n",
              "      <th>Age</th>\n",
              "      <th>Annual_Income</th>\n",
              "      <th>Spending_Score</th>\n",
              "      <th>Hometown</th>\n",
              "      <th>FavoriteTime</th>\n",
              "      <th>Cluster</th>\n",
              "    </tr>\n",
              "  </thead>\n",
              "  <tbody>\n",
              "    <tr>\n",
              "      <th>count</th>\n",
              "      <td>31.000000</td>\n",
              "      <td>31.000000</td>\n",
              "      <td>31.000000</td>\n",
              "      <td>31.000000</td>\n",
              "      <td>31.000000</td>\n",
              "      <td>31.000000</td>\n",
              "      <td>31.0</td>\n",
              "    </tr>\n",
              "    <tr>\n",
              "      <th>mean</th>\n",
              "      <td>0.451613</td>\n",
              "      <td>37.096774</td>\n",
              "      <td>30.395161</td>\n",
              "      <td>87.419355</td>\n",
              "      <td>1.967742</td>\n",
              "      <td>0.258065</td>\n",
              "      <td>2.0</td>\n",
              "    </tr>\n",
              "    <tr>\n",
              "      <th>std</th>\n",
              "      <td>0.505879</td>\n",
              "      <td>15.360892</td>\n",
              "      <td>11.962883</td>\n",
              "      <td>10.327227</td>\n",
              "      <td>1.722089</td>\n",
              "      <td>0.444803</td>\n",
              "      <td>0.0</td>\n",
              "    </tr>\n",
              "    <tr>\n",
              "      <th>min</th>\n",
              "      <td>0.000000</td>\n",
              "      <td>18.000000</td>\n",
              "      <td>10.000000</td>\n",
              "      <td>69.000000</td>\n",
              "      <td>1.000000</td>\n",
              "      <td>0.000000</td>\n",
              "      <td>2.0</td>\n",
              "    </tr>\n",
              "    <tr>\n",
              "      <th>25%</th>\n",
              "      <td>0.000000</td>\n",
              "      <td>24.500000</td>\n",
              "      <td>21.725000</td>\n",
              "      <td>78.500000</td>\n",
              "      <td>1.000000</td>\n",
              "      <td>0.000000</td>\n",
              "      <td>2.0</td>\n",
              "    </tr>\n",
              "    <tr>\n",
              "      <th>50%</th>\n",
              "      <td>0.000000</td>\n",
              "      <td>32.000000</td>\n",
              "      <td>32.000000</td>\n",
              "      <td>88.000000</td>\n",
              "      <td>1.000000</td>\n",
              "      <td>0.000000</td>\n",
              "      <td>2.0</td>\n",
              "    </tr>\n",
              "    <tr>\n",
              "      <th>75%</th>\n",
              "      <td>1.000000</td>\n",
              "      <td>46.000000</td>\n",
              "      <td>42.350000</td>\n",
              "      <td>98.000000</td>\n",
              "      <td>2.000000</td>\n",
              "      <td>0.500000</td>\n",
              "      <td>2.0</td>\n",
              "    </tr>\n",
              "    <tr>\n",
              "      <th>max</th>\n",
              "      <td>1.000000</td>\n",
              "      <td>68.000000</td>\n",
              "      <td>45.600000</td>\n",
              "      <td>100.000000</td>\n",
              "      <td>7.000000</td>\n",
              "      <td>1.000000</td>\n",
              "      <td>2.0</td>\n",
              "    </tr>\n",
              "  </tbody>\n",
              "</table>\n",
              "</div>"
            ],
            "text/plain": [
              "          Gender        Age  Annual_Income  ...   Hometown  FavoriteTime  Cluster\n",
              "count  31.000000  31.000000      31.000000  ...  31.000000     31.000000     31.0\n",
              "mean    0.451613  37.096774      30.395161  ...   1.967742      0.258065      2.0\n",
              "std     0.505879  15.360892      11.962883  ...   1.722089      0.444803      0.0\n",
              "min     0.000000  18.000000      10.000000  ...   1.000000      0.000000      2.0\n",
              "25%     0.000000  24.500000      21.725000  ...   1.000000      0.000000      2.0\n",
              "50%     0.000000  32.000000      32.000000  ...   1.000000      0.000000      2.0\n",
              "75%     1.000000  46.000000      42.350000  ...   2.000000      0.500000      2.0\n",
              "max     1.000000  68.000000      45.600000  ...   7.000000      1.000000      2.0\n",
              "\n",
              "[8 rows x 7 columns]"
            ]
          },
          "metadata": {
            "tags": []
          },
          "execution_count": 104
        }
      ]
    },
    {
      "cell_type": "markdown",
      "metadata": {
        "id": "NygTlZyExKYo",
        "colab_type": "text"
      },
      "source": [
        "**Cluster 2 Analysis :**\n",
        "\n",
        "*   Pelanggan pada cluster 2 ini antara usia 29 sampai 57 tahun dnegan rata-rata usia 34 tahun\n",
        "*   Range Annual Income 55k-90k with avg spending score 83\n",
        "*   Favorite Time Weekday\n",
        "\n",
        "\n",
        "\n",
        "\n",
        "\n"
      ]
    },
    {
      "cell_type": "code",
      "metadata": {
        "id": "Q8z5mUs6x0gX",
        "colab_type": "code",
        "colab": {
          "base_uri": "https://localhost:8080/",
          "height": 297
        },
        "outputId": "9e911f42-ffc4-4c10-ec4c-f8e68ce9d5c3"
      },
      "source": [
        "data[data['Cluster']==3].describe()"
      ],
      "execution_count": 105,
      "outputs": [
        {
          "output_type": "execute_result",
          "data": {
            "text/html": [
              "<div>\n",
              "<style scoped>\n",
              "    .dataframe tbody tr th:only-of-type {\n",
              "        vertical-align: middle;\n",
              "    }\n",
              "\n",
              "    .dataframe tbody tr th {\n",
              "        vertical-align: top;\n",
              "    }\n",
              "\n",
              "    .dataframe thead th {\n",
              "        text-align: right;\n",
              "    }\n",
              "</style>\n",
              "<table border=\"1\" class=\"dataframe\">\n",
              "  <thead>\n",
              "    <tr style=\"text-align: right;\">\n",
              "      <th></th>\n",
              "      <th>Gender</th>\n",
              "      <th>Age</th>\n",
              "      <th>Annual_Income</th>\n",
              "      <th>Spending_Score</th>\n",
              "      <th>Hometown</th>\n",
              "      <th>FavoriteTime</th>\n",
              "      <th>Cluster</th>\n",
              "    </tr>\n",
              "  </thead>\n",
              "  <tbody>\n",
              "    <tr>\n",
              "      <th>count</th>\n",
              "      <td>37.000000</td>\n",
              "      <td>37.000000</td>\n",
              "      <td>37.000000</td>\n",
              "      <td>37.000000</td>\n",
              "      <td>37.000000</td>\n",
              "      <td>37.000000</td>\n",
              "      <td>37.0</td>\n",
              "    </tr>\n",
              "    <tr>\n",
              "      <th>mean</th>\n",
              "      <td>0.459459</td>\n",
              "      <td>38.432432</td>\n",
              "      <td>22.361622</td>\n",
              "      <td>15.081081</td>\n",
              "      <td>1.702703</td>\n",
              "      <td>0.486486</td>\n",
              "      <td>3.0</td>\n",
              "    </tr>\n",
              "    <tr>\n",
              "      <th>std</th>\n",
              "      <td>0.505228</td>\n",
              "      <td>11.824035</td>\n",
              "      <td>7.952458</td>\n",
              "      <td>11.598320</td>\n",
              "      <td>1.023742</td>\n",
              "      <td>0.506712</td>\n",
              "      <td>0.0</td>\n",
              "    </tr>\n",
              "    <tr>\n",
              "      <th>min</th>\n",
              "      <td>0.000000</td>\n",
              "      <td>18.000000</td>\n",
              "      <td>10.980000</td>\n",
              "      <td>1.000000</td>\n",
              "      <td>1.000000</td>\n",
              "      <td>0.000000</td>\n",
              "      <td>3.0</td>\n",
              "    </tr>\n",
              "    <tr>\n",
              "      <th>25%</th>\n",
              "      <td>0.000000</td>\n",
              "      <td>32.000000</td>\n",
              "      <td>14.000000</td>\n",
              "      <td>1.000000</td>\n",
              "      <td>1.000000</td>\n",
              "      <td>0.000000</td>\n",
              "      <td>3.0</td>\n",
              "    </tr>\n",
              "    <tr>\n",
              "      <th>50%</th>\n",
              "      <td>0.000000</td>\n",
              "      <td>35.000000</td>\n",
              "      <td>20.000000</td>\n",
              "      <td>15.000000</td>\n",
              "      <td>1.000000</td>\n",
              "      <td>0.000000</td>\n",
              "      <td>3.0</td>\n",
              "    </tr>\n",
              "    <tr>\n",
              "      <th>75%</th>\n",
              "      <td>1.000000</td>\n",
              "      <td>45.000000</td>\n",
              "      <td>29.000000</td>\n",
              "      <td>23.000000</td>\n",
              "      <td>2.000000</td>\n",
              "      <td>1.000000</td>\n",
              "      <td>3.0</td>\n",
              "    </tr>\n",
              "    <tr>\n",
              "      <th>max</th>\n",
              "      <td>1.000000</td>\n",
              "      <td>67.000000</td>\n",
              "      <td>34.500000</td>\n",
              "      <td>35.000000</td>\n",
              "      <td>5.000000</td>\n",
              "      <td>1.000000</td>\n",
              "      <td>3.0</td>\n",
              "    </tr>\n",
              "  </tbody>\n",
              "</table>\n",
              "</div>"
            ],
            "text/plain": [
              "          Gender        Age  Annual_Income  ...   Hometown  FavoriteTime  Cluster\n",
              "count  37.000000  37.000000      37.000000  ...  37.000000     37.000000     37.0\n",
              "mean    0.459459  38.432432      22.361622  ...   1.702703      0.486486      3.0\n",
              "std     0.505228  11.824035       7.952458  ...   1.023742      0.506712      0.0\n",
              "min     0.000000  18.000000      10.980000  ...   1.000000      0.000000      3.0\n",
              "25%     0.000000  32.000000      14.000000  ...   1.000000      0.000000      3.0\n",
              "50%     0.000000  35.000000      20.000000  ...   1.000000      0.000000      3.0\n",
              "75%     1.000000  45.000000      29.000000  ...   2.000000      1.000000      3.0\n",
              "max     1.000000  67.000000      34.500000  ...   5.000000      1.000000      3.0\n",
              "\n",
              "[8 rows x 7 columns]"
            ]
          },
          "metadata": {
            "tags": []
          },
          "execution_count": 105
        }
      ]
    },
    {
      "cell_type": "markdown",
      "metadata": {
        "id": "gyAKD8wQx-sD",
        "colab_type": "text"
      },
      "source": [
        "**Cluster 3 Analysis :**\n",
        "\n",
        "*   Pelanggan pada cluster 3 ini antara usia 19-63 tahun, rata-rata 41 tahun\n",
        "*   Range annual income 43k-90k with avg spending score 14k\n",
        "*   Favorite Time Weekend\n",
        "\n"
      ]
    },
    {
      "cell_type": "code",
      "metadata": {
        "id": "8Df71bGIyiTW",
        "colab_type": "code",
        "colab": {
          "base_uri": "https://localhost:8080/",
          "height": 297
        },
        "outputId": "ce5100d8-9d96-4c60-e785-d85bf4c03f38"
      },
      "source": [
        "data[data['Cluster']==4].describe()"
      ],
      "execution_count": 106,
      "outputs": [
        {
          "output_type": "execute_result",
          "data": {
            "text/html": [
              "<div>\n",
              "<style scoped>\n",
              "    .dataframe tbody tr th:only-of-type {\n",
              "        vertical-align: middle;\n",
              "    }\n",
              "\n",
              "    .dataframe tbody tr th {\n",
              "        vertical-align: top;\n",
              "    }\n",
              "\n",
              "    .dataframe thead th {\n",
              "        text-align: right;\n",
              "    }\n",
              "</style>\n",
              "<table border=\"1\" class=\"dataframe\">\n",
              "  <thead>\n",
              "    <tr style=\"text-align: right;\">\n",
              "      <th></th>\n",
              "      <th>Gender</th>\n",
              "      <th>Age</th>\n",
              "      <th>Annual_Income</th>\n",
              "      <th>Spending_Score</th>\n",
              "      <th>Hometown</th>\n",
              "      <th>FavoriteTime</th>\n",
              "      <th>Cluster</th>\n",
              "    </tr>\n",
              "  </thead>\n",
              "  <tbody>\n",
              "    <tr>\n",
              "      <th>count</th>\n",
              "      <td>20.000000</td>\n",
              "      <td>20.000000</td>\n",
              "      <td>20.00000</td>\n",
              "      <td>20.000000</td>\n",
              "      <td>20.000000</td>\n",
              "      <td>20.000000</td>\n",
              "      <td>20.0</td>\n",
              "    </tr>\n",
              "    <tr>\n",
              "      <th>mean</th>\n",
              "      <td>0.500000</td>\n",
              "      <td>53.400000</td>\n",
              "      <td>68.64750</td>\n",
              "      <td>49.900000</td>\n",
              "      <td>1.500000</td>\n",
              "      <td>0.200000</td>\n",
              "      <td>4.0</td>\n",
              "    </tr>\n",
              "    <tr>\n",
              "      <th>std</th>\n",
              "      <td>0.512989</td>\n",
              "      <td>10.816167</td>\n",
              "      <td>12.36297</td>\n",
              "      <td>10.725768</td>\n",
              "      <td>0.888523</td>\n",
              "      <td>0.410391</td>\n",
              "      <td>0.0</td>\n",
              "    </tr>\n",
              "    <tr>\n",
              "      <th>min</th>\n",
              "      <td>0.000000</td>\n",
              "      <td>34.000000</td>\n",
              "      <td>49.50000</td>\n",
              "      <td>33.000000</td>\n",
              "      <td>1.000000</td>\n",
              "      <td>0.000000</td>\n",
              "      <td>4.0</td>\n",
              "    </tr>\n",
              "    <tr>\n",
              "      <th>25%</th>\n",
              "      <td>0.000000</td>\n",
              "      <td>46.500000</td>\n",
              "      <td>61.50000</td>\n",
              "      <td>42.000000</td>\n",
              "      <td>1.000000</td>\n",
              "      <td>0.000000</td>\n",
              "      <td>4.0</td>\n",
              "    </tr>\n",
              "    <tr>\n",
              "      <th>50%</th>\n",
              "      <td>0.500000</td>\n",
              "      <td>52.000000</td>\n",
              "      <td>65.00000</td>\n",
              "      <td>47.000000</td>\n",
              "      <td>1.000000</td>\n",
              "      <td>0.000000</td>\n",
              "      <td>4.0</td>\n",
              "    </tr>\n",
              "    <tr>\n",
              "      <th>75%</th>\n",
              "      <td>1.000000</td>\n",
              "      <td>64.500000</td>\n",
              "      <td>79.25000</td>\n",
              "      <td>56.250000</td>\n",
              "      <td>2.000000</td>\n",
              "      <td>0.000000</td>\n",
              "      <td>4.0</td>\n",
              "    </tr>\n",
              "    <tr>\n",
              "      <th>max</th>\n",
              "      <td>1.000000</td>\n",
              "      <td>70.000000</td>\n",
              "      <td>90.00000</td>\n",
              "      <td>76.000000</td>\n",
              "      <td>4.000000</td>\n",
              "      <td>1.000000</td>\n",
              "      <td>4.0</td>\n",
              "    </tr>\n",
              "  </tbody>\n",
              "</table>\n",
              "</div>"
            ],
            "text/plain": [
              "          Gender        Age  Annual_Income  ...   Hometown  FavoriteTime  Cluster\n",
              "count  20.000000  20.000000       20.00000  ...  20.000000     20.000000     20.0\n",
              "mean    0.500000  53.400000       68.64750  ...   1.500000      0.200000      4.0\n",
              "std     0.512989  10.816167       12.36297  ...   0.888523      0.410391      0.0\n",
              "min     0.000000  34.000000       49.50000  ...   1.000000      0.000000      4.0\n",
              "25%     0.000000  46.500000       61.50000  ...   1.000000      0.000000      4.0\n",
              "50%     0.500000  52.000000       65.00000  ...   1.000000      0.000000      4.0\n",
              "75%     1.000000  64.500000       79.25000  ...   2.000000      0.000000      4.0\n",
              "max     1.000000  70.000000       90.00000  ...   4.000000      1.000000      4.0\n",
              "\n",
              "[8 rows x 7 columns]"
            ]
          },
          "metadata": {
            "tags": []
          },
          "execution_count": 106
        }
      ]
    },
    {
      "cell_type": "markdown",
      "metadata": {
        "id": "t9dG1sLsysJv",
        "colab_type": "text"
      },
      "source": [
        "**Cluster 4 Analysis :**\n",
        "\n",
        "*   Pelanggan pada cluster 4 ini antara udia 18-46 tahun dengan rata-rata usia 27 tahun\n",
        "*   Range annual income 23k-62k dengan avg spending score 49k \n",
        "*   Favorite Time Weekend\n",
        "\n",
        "\n",
        "\n"
      ]
    },
    {
      "cell_type": "code",
      "metadata": {
        "id": "9LdwntXu0ypK",
        "colab_type": "code",
        "colab": {
          "base_uri": "https://localhost:8080/",
          "height": 297
        },
        "outputId": "acbf6234-fbe2-44df-f66a-52120e0a275f"
      },
      "source": [
        "data[data['Cluster']==5].describe()"
      ],
      "execution_count": 107,
      "outputs": [
        {
          "output_type": "execute_result",
          "data": {
            "text/html": [
              "<div>\n",
              "<style scoped>\n",
              "    .dataframe tbody tr th:only-of-type {\n",
              "        vertical-align: middle;\n",
              "    }\n",
              "\n",
              "    .dataframe tbody tr th {\n",
              "        vertical-align: top;\n",
              "    }\n",
              "\n",
              "    .dataframe thead th {\n",
              "        text-align: right;\n",
              "    }\n",
              "</style>\n",
              "<table border=\"1\" class=\"dataframe\">\n",
              "  <thead>\n",
              "    <tr style=\"text-align: right;\">\n",
              "      <th></th>\n",
              "      <th>Gender</th>\n",
              "      <th>Age</th>\n",
              "      <th>Annual_Income</th>\n",
              "      <th>Spending_Score</th>\n",
              "      <th>Hometown</th>\n",
              "      <th>FavoriteTime</th>\n",
              "      <th>Cluster</th>\n",
              "    </tr>\n",
              "  </thead>\n",
              "  <tbody>\n",
              "    <tr>\n",
              "      <th>count</th>\n",
              "      <td>31.000000</td>\n",
              "      <td>31.000000</td>\n",
              "      <td>31.000000</td>\n",
              "      <td>31.000000</td>\n",
              "      <td>31.000000</td>\n",
              "      <td>31.000000</td>\n",
              "      <td>31.0</td>\n",
              "    </tr>\n",
              "    <tr>\n",
              "      <th>mean</th>\n",
              "      <td>0.580645</td>\n",
              "      <td>41.483871</td>\n",
              "      <td>59.830645</td>\n",
              "      <td>14.096774</td>\n",
              "      <td>1.129032</td>\n",
              "      <td>0.161290</td>\n",
              "      <td>5.0</td>\n",
              "    </tr>\n",
              "    <tr>\n",
              "      <th>std</th>\n",
              "      <td>0.501610</td>\n",
              "      <td>12.800706</td>\n",
              "      <td>15.005036</td>\n",
              "      <td>8.584307</td>\n",
              "      <td>0.340777</td>\n",
              "      <td>0.373878</td>\n",
              "      <td>0.0</td>\n",
              "    </tr>\n",
              "    <tr>\n",
              "      <th>min</th>\n",
              "      <td>0.000000</td>\n",
              "      <td>19.000000</td>\n",
              "      <td>43.000000</td>\n",
              "      <td>1.000000</td>\n",
              "      <td>1.000000</td>\n",
              "      <td>0.000000</td>\n",
              "      <td>5.0</td>\n",
              "    </tr>\n",
              "    <tr>\n",
              "      <th>25%</th>\n",
              "      <td>0.000000</td>\n",
              "      <td>34.500000</td>\n",
              "      <td>45.250000</td>\n",
              "      <td>6.500000</td>\n",
              "      <td>1.000000</td>\n",
              "      <td>0.000000</td>\n",
              "      <td>5.0</td>\n",
              "    </tr>\n",
              "    <tr>\n",
              "      <th>50%</th>\n",
              "      <td>1.000000</td>\n",
              "      <td>44.000000</td>\n",
              "      <td>56.000000</td>\n",
              "      <td>14.000000</td>\n",
              "      <td>1.000000</td>\n",
              "      <td>0.000000</td>\n",
              "      <td>5.0</td>\n",
              "    </tr>\n",
              "    <tr>\n",
              "      <th>75%</th>\n",
              "      <td>1.000000</td>\n",
              "      <td>49.500000</td>\n",
              "      <td>69.000000</td>\n",
              "      <td>21.000000</td>\n",
              "      <td>1.000000</td>\n",
              "      <td>0.000000</td>\n",
              "      <td>5.0</td>\n",
              "    </tr>\n",
              "    <tr>\n",
              "      <th>max</th>\n",
              "      <td>1.000000</td>\n",
              "      <td>63.000000</td>\n",
              "      <td>90.000000</td>\n",
              "      <td>32.000000</td>\n",
              "      <td>2.000000</td>\n",
              "      <td>1.000000</td>\n",
              "      <td>5.0</td>\n",
              "    </tr>\n",
              "  </tbody>\n",
              "</table>\n",
              "</div>"
            ],
            "text/plain": [
              "          Gender        Age  Annual_Income  ...   Hometown  FavoriteTime  Cluster\n",
              "count  31.000000  31.000000      31.000000  ...  31.000000     31.000000     31.0\n",
              "mean    0.580645  41.483871      59.830645  ...   1.129032      0.161290      5.0\n",
              "std     0.501610  12.800706      15.005036  ...   0.340777      0.373878      0.0\n",
              "min     0.000000  19.000000      43.000000  ...   1.000000      0.000000      5.0\n",
              "25%     0.000000  34.500000      45.250000  ...   1.000000      0.000000      5.0\n",
              "50%     1.000000  44.000000      56.000000  ...   1.000000      0.000000      5.0\n",
              "75%     1.000000  49.500000      69.000000  ...   1.000000      0.000000      5.0\n",
              "max     1.000000  63.000000      90.000000  ...   2.000000      1.000000      5.0\n",
              "\n",
              "[8 rows x 7 columns]"
            ]
          },
          "metadata": {
            "tags": []
          },
          "execution_count": 107
        }
      ]
    },
    {
      "cell_type": "markdown",
      "metadata": {
        "id": "a89U0-kb2u5d",
        "colab_type": "text"
      },
      "source": [
        "Dari analisis di atas, cluster berikut mengkategorikan data dengan cara yang paling optimal.\n",
        "\n",
        "Cluster 0 (usia rata-rata: 52) - Orang dengan pendapatan rata-rata banyak tetapi rendah pengeluaran\n",
        "\n",
        "Cluster 1 (usia rata-rata: 48) - Orang-orang dengan pendapatan rata-rata yang layak tetapi pengeluaran banyak\n",
        "\n",
        "Kluster 2 (usia rata-rata: 34) - Orang yang menetap memiliki pendapatan rata-rata yang banyak dan pengeluaran banyak\n",
        "\n",
        "Cluster 3 (usia rata-rata: 41) - Orang-orang dengan pendapatan rata-rata banyak dan pengeluaran lebih sedikit\n",
        "\n",
        "Cluster 4 (usia rata-rata: 27) - Masyarakat menetap (berkeluarga) dengan pendapatan tahunan yang layak dan pengeluaran yang layak\n",
        "\n"
      ]
    }
  ]
}